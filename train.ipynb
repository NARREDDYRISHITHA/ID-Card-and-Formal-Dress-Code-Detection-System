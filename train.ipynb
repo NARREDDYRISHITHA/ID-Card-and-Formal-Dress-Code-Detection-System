{
 "cells": [
  {
   "cell_type": "code",
   "execution_count": 3,
   "metadata": {},
   "outputs": [
    {
     "name": "stdout",
     "output_type": "stream",
     "text": [
      "Requirement already satisfied: roboflow in c:\\users\\91964\\appdata\\local\\programs\\python\\python311\\lib\\site-packages (1.1.36)\n",
      "Collecting roboflow\n",
      "  Downloading roboflow-1.1.58-py3-none-any.whl.metadata (9.7 kB)\n",
      "Requirement already satisfied: certifi in c:\\users\\91964\\appdata\\local\\programs\\python\\python311\\lib\\site-packages (from roboflow) (2024.2.2)\n",
      "Requirement already satisfied: idna==3.7 in c:\\users\\91964\\appdata\\local\\programs\\python\\python311\\lib\\site-packages (from roboflow) (3.7)\n",
      "Requirement already satisfied: cycler in c:\\users\\91964\\appdata\\local\\programs\\python\\python311\\lib\\site-packages (from roboflow) (0.12.1)\n",
      "Requirement already satisfied: kiwisolver>=1.3.1 in c:\\users\\91964\\appdata\\local\\programs\\python\\python311\\lib\\site-packages (from roboflow) (1.4.5)\n",
      "Requirement already satisfied: matplotlib in c:\\users\\91964\\appdata\\local\\programs\\python\\python311\\lib\\site-packages (from roboflow) (3.8.2)\n",
      "Requirement already satisfied: numpy>=1.18.5 in c:\\users\\91964\\appdata\\local\\programs\\python\\python311\\lib\\site-packages (from roboflow) (1.26.2)\n",
      "Requirement already satisfied: opencv-python-headless==4.10.0.84 in c:\\users\\91964\\appdata\\local\\programs\\python\\python311\\lib\\site-packages (from roboflow) (4.10.0.84)\n",
      "Requirement already satisfied: Pillow>=7.1.2 in c:\\users\\91964\\appdata\\local\\programs\\python\\python311\\lib\\site-packages (from roboflow) (10.2.0)\n",
      "Collecting pillow-heif>=0.18.0 (from roboflow)\n",
      "  Downloading pillow_heif-0.21.0-cp311-cp311-win_amd64.whl.metadata (10.0 kB)\n",
      "Requirement already satisfied: python-dateutil in c:\\users\\91964\\appdata\\local\\programs\\python\\python311\\lib\\site-packages (from roboflow) (2.8.2)\n",
      "Requirement already satisfied: python-dotenv in c:\\users\\91964\\appdata\\local\\programs\\python\\python311\\lib\\site-packages (from roboflow) (1.0.1)\n",
      "Requirement already satisfied: requests in c:\\users\\91964\\appdata\\local\\programs\\python\\python311\\lib\\site-packages (from roboflow) (2.32.3)\n",
      "Requirement already satisfied: six in c:\\users\\91964\\appdata\\local\\programs\\python\\python311\\lib\\site-packages (from roboflow) (1.16.0)\n",
      "Requirement already satisfied: urllib3>=1.26.6 in c:\\users\\91964\\appdata\\local\\programs\\python\\python311\\lib\\site-packages (from roboflow) (2.3.0)\n",
      "Requirement already satisfied: tqdm>=4.41.0 in c:\\users\\91964\\appdata\\local\\programs\\python\\python311\\lib\\site-packages (from roboflow) (4.66.2)\n",
      "Requirement already satisfied: PyYAML>=5.3.1 in c:\\users\\91964\\appdata\\local\\programs\\python\\python311\\lib\\site-packages (from roboflow) (6.0.1)\n",
      "Requirement already satisfied: requests-toolbelt in c:\\users\\91964\\appdata\\local\\programs\\python\\python311\\lib\\site-packages (from roboflow) (1.0.0)\n",
      "Requirement already satisfied: filetype in c:\\users\\91964\\appdata\\local\\programs\\python\\python311\\lib\\site-packages (from roboflow) (1.2.0)\n",
      "Requirement already satisfied: colorama in c:\\users\\91964\\appdata\\roaming\\python\\python311\\site-packages (from tqdm>=4.41.0->roboflow) (0.4.6)\n",
      "Requirement already satisfied: contourpy>=1.0.1 in c:\\users\\91964\\appdata\\local\\programs\\python\\python311\\lib\\site-packages (from matplotlib->roboflow) (1.2.0)\n",
      "Requirement already satisfied: fonttools>=4.22.0 in c:\\users\\91964\\appdata\\local\\programs\\python\\python311\\lib\\site-packages (from matplotlib->roboflow) (4.48.1)\n",
      "Requirement already satisfied: packaging>=20.0 in c:\\users\\91964\\appdata\\local\\programs\\python\\python311\\lib\\site-packages (from matplotlib->roboflow) (24.2)\n",
      "Requirement already satisfied: pyparsing>=2.3.1 in c:\\users\\91964\\appdata\\local\\programs\\python\\python311\\lib\\site-packages (from matplotlib->roboflow) (3.1.1)\n",
      "Requirement already satisfied: charset-normalizer<4,>=2 in c:\\users\\91964\\appdata\\local\\programs\\python\\python311\\lib\\site-packages (from requests->roboflow) (3.3.2)\n",
      "Downloading roboflow-1.1.58-py3-none-any.whl (84 kB)\n",
      "Downloading pillow_heif-0.21.0-cp311-cp311-win_amd64.whl (8.7 MB)\n",
      "   ---------------------------------------- 0.0/8.7 MB ? eta -:--:--\n",
      "   -------------- ------------------------- 3.1/8.7 MB 23.1 MB/s eta 0:00:01\n",
      "   --------------------------- ------------ 6.0/8.7 MB 15.4 MB/s eta 0:00:01\n",
      "   ---------------------------- ----------- 6.3/8.7 MB 15.5 MB/s eta 0:00:01\n",
      "   ---------------------------- ----------- 6.3/8.7 MB 15.5 MB/s eta 0:00:01\n",
      "   ---------------------------------------- 8.7/8.7 MB 8.4 MB/s eta 0:00:00\n",
      "Installing collected packages: pillow-heif, roboflow\n",
      "  Attempting uninstall: roboflow\n",
      "    Found existing installation: roboflow 1.1.36\n",
      "    Uninstalling roboflow-1.1.36:\n",
      "      Successfully uninstalled roboflow-1.1.36\n",
      "Successfully installed pillow-heif-0.21.0 roboflow-1.1.58\n"
     ]
    }
   ],
   "source": [
    "!pip install --upgrade roboflow\n"
   ]
  },
  {
   "cell_type": "code",
   "execution_count": null,
   "metadata": {},
   "outputs": [
    {
     "name": "stdout",
     "output_type": "stream",
     "text": [
      "Requirement already satisfied: roboflow in c:\\users\\91964\\appdata\\local\\programs\\python\\python311\\lib\\site-packages (1.1.58)\n",
      "Requirement already satisfied: certifi in c:\\users\\91964\\appdata\\local\\programs\\python\\python311\\lib\\site-packages (from roboflow) (2024.2.2)\n",
      "Requirement already satisfied: idna==3.7 in c:\\users\\91964\\appdata\\local\\programs\\python\\python311\\lib\\site-packages (from roboflow) (3.7)\n",
      "Requirement already satisfied: cycler in c:\\users\\91964\\appdata\\local\\programs\\python\\python311\\lib\\site-packages (from roboflow) (0.12.1)\n",
      "Requirement already satisfied: kiwisolver>=1.3.1 in c:\\users\\91964\\appdata\\local\\programs\\python\\python311\\lib\\site-packages (from roboflow) (1.4.5)\n",
      "Requirement already satisfied: matplotlib in c:\\users\\91964\\appdata\\local\\programs\\python\\python311\\lib\\site-packages (from roboflow) (3.8.2)\n",
      "Requirement already satisfied: numpy>=1.18.5 in c:\\users\\91964\\appdata\\local\\programs\\python\\python311\\lib\\site-packages (from roboflow) (1.26.2)\n",
      "Requirement already satisfied: opencv-python-headless==4.10.0.84 in c:\\users\\91964\\appdata\\local\\programs\\python\\python311\\lib\\site-packages (from roboflow) (4.10.0.84)\n",
      "Requirement already satisfied: Pillow>=7.1.2 in c:\\users\\91964\\appdata\\local\\programs\\python\\python311\\lib\\site-packages (from roboflow) (10.2.0)\n",
      "Requirement already satisfied: pillow-heif>=0.18.0 in c:\\users\\91964\\appdata\\local\\programs\\python\\python311\\lib\\site-packages (from roboflow) (0.21.0)\n",
      "Requirement already satisfied: python-dateutil in c:\\users\\91964\\appdata\\local\\programs\\python\\python311\\lib\\site-packages (from roboflow) (2.8.2)\n",
      "Requirement already satisfied: python-dotenv in c:\\users\\91964\\appdata\\local\\programs\\python\\python311\\lib\\site-packages (from roboflow) (1.0.1)\n",
      "Requirement already satisfied: requests in c:\\users\\91964\\appdata\\local\\programs\\python\\python311\\lib\\site-packages (from roboflow) (2.32.3)\n",
      "Requirement already satisfied: six in c:\\users\\91964\\appdata\\local\\programs\\python\\python311\\lib\\site-packages (from roboflow) (1.16.0)\n",
      "Requirement already satisfied: urllib3>=1.26.6 in c:\\users\\91964\\appdata\\local\\programs\\python\\python311\\lib\\site-packages (from roboflow) (2.3.0)\n",
      "Requirement already satisfied: tqdm>=4.41.0 in c:\\users\\91964\\appdata\\local\\programs\\python\\python311\\lib\\site-packages (from roboflow) (4.66.2)\n",
      "Requirement already satisfied: PyYAML>=5.3.1 in c:\\users\\91964\\appdata\\local\\programs\\python\\python311\\lib\\site-packages (from roboflow) (6.0.1)\n",
      "Requirement already satisfied: requests-toolbelt in c:\\users\\91964\\appdata\\local\\programs\\python\\python311\\lib\\site-packages (from roboflow) (1.0.0)\n",
      "Requirement already satisfied: filetype in c:\\users\\91964\\appdata\\local\\programs\\python\\python311\\lib\\site-packages (from roboflow) (1.2.0)\n",
      "Requirement already satisfied: colorama in c:\\users\\91964\\appdata\\roaming\\python\\python311\\site-packages (from tqdm>=4.41.0->roboflow) (0.4.6)\n",
      "Requirement already satisfied: contourpy>=1.0.1 in c:\\users\\91964\\appdata\\local\\programs\\python\\python311\\lib\\site-packages (from matplotlib->roboflow) (1.2.0)\n",
      "Requirement already satisfied: fonttools>=4.22.0 in c:\\users\\91964\\appdata\\local\\programs\\python\\python311\\lib\\site-packages (from matplotlib->roboflow) (4.48.1)\n",
      "Requirement already satisfied: packaging>=20.0 in c:\\users\\91964\\appdata\\local\\programs\\python\\python311\\lib\\site-packages (from matplotlib->roboflow) (24.2)\n",
      "Requirement already satisfied: pyparsing>=2.3.1 in c:\\users\\91964\\appdata\\local\\programs\\python\\python311\\lib\\site-packages (from matplotlib->roboflow) (3.1.1)\n",
      "Requirement already satisfied: charset-normalizer<4,>=2 in c:\\users\\91964\\appdata\\local\\programs\\python\\python311\\lib\\site-packages (from requests->roboflow) (3.3.2)\n",
      "loading Roboflow workspace...\n",
      "loading Roboflow project...\n"
     ]
    },
    {
     "name": "stderr",
     "output_type": "stream",
     "text": [
      "Downloading Dataset Version Zip in Id-card-1 to yolov8:: 100%|██████████| 164896/164896 [00:14<00:00, 11605.41it/s]"
     ]
    },
    {
     "name": "stdout",
     "output_type": "stream",
     "text": [
      "\n"
     ]
    },
    {
     "name": "stderr",
     "output_type": "stream",
     "text": [
      "\n",
      "Extracting Dataset Version Zip to Id-card-1 in yolov8:: 100%|██████████| 4220/4220 [00:32<00:00, 131.59it/s]\n"
     ]
    }
   ],
   "source": [
    "!pip install roboflow\n",
    "\n",
    "from roboflow import Roboflow\n",
    "rf = Roboflow(api_key=\"4REFjPGpRLUMt5gylhr6\")\n",
    "project = rf.workspace(\"jaycharan\").project(\"id-card-scnph\")\n",
    "version = project.version(1)\n",
    "dataset = version.download(\"yolov12\")\n",
    "                "
   ]
  },
  {
   "cell_type": "code",
   "execution_count": 1,
   "metadata": {},
   "outputs": [],
   "source": [
    "from ultralytics import YOLO"
   ]
  },
  {
   "cell_type": "code",
   "execution_count": null,
   "metadata": {},
   "outputs": [
    {
     "name": "stdout",
     "output_type": "stream",
     "text": [
      "YOLOv8s summary: 225 layers, 11,166,560 parameters, 0 gradients, 28.8 GFLOPs\n"
     ]
    },
    {
     "data": {
      "text/plain": [
       "(225, 11166560, 0, 28.816844800000002)"
      ]
     },
     "execution_count": 2,
     "metadata": {},
     "output_type": "execute_result"
    }
   ],
   "source": [
    "from ultralytics import YOLO\n",
    "\n",
    "# Load a COCO-pretrained YOLOv8n model\n",
    "model = YOLO(\"yolov12n.pt\")\n",
    "\n",
    "# Display model information (optional)\n",
    "model.info()\n"
   ]
  },
  {
   "cell_type": "code",
   "execution_count": 4,
   "metadata": {},
   "outputs": [
    {
     "name": "stdout",
     "output_type": "stream",
     "text": [
      "Available RAM: 5.13 GB\n"
     ]
    }
   ],
   "source": [
    "import psutil\n",
    "print(f\"Available RAM: {psutil.virtual_memory().available / (1024**3):.2f} GB\")\n"
   ]
  },
  {
   "cell_type": "code",
   "execution_count": 5,
   "metadata": {},
   "outputs": [],
   "source": [
    "import torch\n",
    "torch.cuda.empty_cache()\n"
   ]
  },
  {
   "cell_type": "code",
   "execution_count": 6,
   "metadata": {},
   "outputs": [
    {
     "name": "stdout",
     "output_type": "stream",
     "text": [
      "cpu\n"
     ]
    }
   ],
   "source": [
    "import torch\n",
    "print(torch.device(\"cpu\"))\n"
   ]
  },
  {
   "cell_type": "code",
   "execution_count": 7,
   "metadata": {},
   "outputs": [],
   "source": [
    "device=\"cuda\" if torch.cuda.is_available() else \"cpu\"\n"
   ]
  },
  {
   "cell_type": "code",
   "execution_count": 8,
   "metadata": {},
   "outputs": [
    {
     "name": "stdout",
     "output_type": "stream",
     "text": [
      "False\n"
     ]
    }
   ],
   "source": [
    "print(torch.cuda.is_available())  # True = GPU available\n"
   ]
  },
  {
   "cell_type": "code",
   "execution_count": 9,
   "metadata": {},
   "outputs": [
    {
     "name": "stdout",
     "output_type": "stream",
     "text": [
      "Sat Mar 15 05:12:44 2025       \n",
      "+-----------------------------------------------------------------------------------------+\n",
      "| NVIDIA-SMI 561.19                 Driver Version: 561.19         CUDA Version: 12.6     |\n",
      "|-----------------------------------------+------------------------+----------------------+\n",
      "| GPU  Name                  Driver-Model | Bus-Id          Disp.A | Volatile Uncorr. ECC |\n",
      "| Fan  Temp   Perf          Pwr:Usage/Cap |           Memory-Usage | GPU-Util  Compute M. |\n",
      "|                                         |                        |               MIG M. |\n",
      "|=========================================+========================+======================|\n",
      "|   0  NVIDIA GeForce RTX 3050 ...  WDDM  |   00000000:01:00.0 Off |                  N/A |\n",
      "| N/A   45C    P3             12W /   30W |       0MiB /   4096MiB |      0%      Default |\n",
      "|                                         |                        |                  N/A |\n",
      "+-----------------------------------------+------------------------+----------------------+\n",
      "                                                                                         \n",
      "+-----------------------------------------------------------------------------------------+\n",
      "| Processes:                                                                              |\n",
      "|  GPU   GI   CI        PID   Type   Process name                              GPU Memory |\n",
      "|        ID   ID                                                               Usage      |\n",
      "|=========================================================================================|\n",
      "|  No running processes found                                                             |\n",
      "+-----------------------------------------------------------------------------------------+\n"
     ]
    }
   ],
   "source": [
    "!nvidia-smi\n"
   ]
  },
  {
   "cell_type": "code",
   "execution_count": 12,
   "metadata": {},
   "outputs": [
    {
     "name": "stdout",
     "output_type": "stream",
     "text": [
      "New https://pypi.org/project/ultralytics/8.3.90 available  Update with 'pip install -U ultralytics'\n",
      "Ultralytics 8.3.28  Python-3.11.4 torch-2.4.1+cpu CPU (12th Gen Intel Core(TM) i5-12450H)\n",
      "\u001b[34m\u001b[1mengine\\trainer: \u001b[0mtask=detect, mode=train, model=yolov8s.pt, data=C:\\Users\\91964\\OneDrive\\Desktop\\PAD_Rishi\\Id-card-1\\data.yaml, epochs=50, time=None, patience=100, batch=4, imgsz=416, save=True, save_period=-1, cache=False, device=cpu, workers=8, project=None, name=train3, exist_ok=False, pretrained=True, optimizer=auto, verbose=True, seed=0, deterministic=True, single_cls=False, rect=False, cos_lr=False, close_mosaic=10, resume=False, amp=True, fraction=1.0, profile=False, freeze=None, multi_scale=False, overlap_mask=True, mask_ratio=4, dropout=0.0, val=True, split=val, save_json=False, save_hybrid=False, conf=None, iou=0.7, max_det=300, half=False, dnn=False, plots=True, source=None, vid_stride=1, stream_buffer=False, visualize=False, augment=False, agnostic_nms=False, classes=None, retina_masks=False, embed=None, show=False, save_frames=False, save_txt=False, save_conf=False, save_crop=False, show_labels=True, show_conf=True, show_boxes=True, line_width=None, format=torchscript, keras=False, optimize=False, int8=False, dynamic=False, simplify=True, opset=None, workspace=4, nms=False, lr0=0.01, lrf=0.01, momentum=0.937, weight_decay=0.0005, warmup_epochs=3.0, warmup_momentum=0.8, warmup_bias_lr=0.1, box=7.5, cls=0.5, dfl=1.5, pose=12.0, kobj=1.0, label_smoothing=0.0, nbs=64, hsv_h=0.015, hsv_s=0.7, hsv_v=0.4, degrees=0.0, translate=0.1, scale=0.5, shear=0.0, perspective=0.0, flipud=0.0, fliplr=0.5, bgr=0.0, mosaic=0.5, mixup=0.0, copy_paste=0.1, copy_paste_mode=flip, auto_augment=randaugment, erasing=0.4, crop_fraction=1.0, cfg=None, tracker=botsort.yaml, save_dir=runs\\detect\\train3\n",
      "Overriding model.yaml nc=80 with nc=2\n",
      "\n",
      "                   from  n    params  module                                       arguments                     \n",
      "  0                  -1  1       928  ultralytics.nn.modules.conv.Conv             [3, 32, 3, 2]                 \n",
      "  1                  -1  1     18560  ultralytics.nn.modules.conv.Conv             [32, 64, 3, 2]                \n",
      "  2                  -1  1     29056  ultralytics.nn.modules.block.C2f             [64, 64, 1, True]             \n",
      "  3                  -1  1     73984  ultralytics.nn.modules.conv.Conv             [64, 128, 3, 2]               \n",
      "  4                  -1  2    197632  ultralytics.nn.modules.block.C2f             [128, 128, 2, True]           \n",
      "  5                  -1  1    295424  ultralytics.nn.modules.conv.Conv             [128, 256, 3, 2]              \n",
      "  6                  -1  2    788480  ultralytics.nn.modules.block.C2f             [256, 256, 2, True]           \n",
      "  7                  -1  1   1180672  ultralytics.nn.modules.conv.Conv             [256, 512, 3, 2]              \n",
      "  8                  -1  1   1838080  ultralytics.nn.modules.block.C2f             [512, 512, 1, True]           \n",
      "  9                  -1  1    656896  ultralytics.nn.modules.block.SPPF            [512, 512, 5]                 \n",
      " 10                  -1  1         0  torch.nn.modules.upsampling.Upsample         [None, 2, 'nearest']          \n",
      " 11             [-1, 6]  1         0  ultralytics.nn.modules.conv.Concat           [1]                           \n",
      " 12                  -1  1    591360  ultralytics.nn.modules.block.C2f             [768, 256, 1]                 \n",
      " 13                  -1  1         0  torch.nn.modules.upsampling.Upsample         [None, 2, 'nearest']          \n",
      " 14             [-1, 4]  1         0  ultralytics.nn.modules.conv.Concat           [1]                           \n",
      " 15                  -1  1    148224  ultralytics.nn.modules.block.C2f             [384, 128, 1]                 \n",
      " 16                  -1  1    147712  ultralytics.nn.modules.conv.Conv             [128, 128, 3, 2]              \n",
      " 17            [-1, 12]  1         0  ultralytics.nn.modules.conv.Concat           [1]                           \n",
      " 18                  -1  1    493056  ultralytics.nn.modules.block.C2f             [384, 256, 1]                 \n",
      " 19                  -1  1    590336  ultralytics.nn.modules.conv.Conv             [256, 256, 3, 2]              \n",
      " 20             [-1, 9]  1         0  ultralytics.nn.modules.conv.Concat           [1]                           \n",
      " 21                  -1  1   1969152  ultralytics.nn.modules.block.C2f             [768, 512, 1]                 \n",
      " 22        [15, 18, 21]  1   2116822  ultralytics.nn.modules.head.Detect           [2, [128, 256, 512]]          \n",
      "Model summary: 225 layers, 11,136,374 parameters, 11,136,358 gradients, 28.6 GFLOPs\n",
      "\n",
      "Transferred 349/355 items from pretrained weights\n",
      "\u001b[34m\u001b[1mTensorBoard: \u001b[0mStart with 'tensorboard --logdir runs\\detect\\train3', view at http://localhost:6006/\n",
      "Freezing layer 'model.22.dfl.conv.weight'\n"
     ]
    },
    {
     "name": "stderr",
     "output_type": "stream",
     "text": [
      "\u001b[34m\u001b[1mtrain: \u001b[0mScanning C:\\Users\\91964\\OneDrive\\Desktop\\PAD_Rishi\\Id-card-1\\train\\labels.cache... 1770 images, 184 backgrounds, 0 corrupt: 100%|██████████| 1770/1770 [00:00<?, ?it/s]\n",
      "c:\\Users\\91964\\AppData\\Local\\Programs\\Python\\Python311\\Lib\\site-packages\\tqdm\\auto.py:21: TqdmWarning: IProgress not found. Please update jupyter and ipywidgets. See https://ipywidgets.readthedocs.io/en/stable/user_install.html\n",
      "  from .autonotebook import tqdm as notebook_tqdm\n",
      "INFO:albumentations.check_version:A new version of Albumentations is available: 2.0.5 (you have 1.4.10). Upgrade using: pip install --upgrade albumentations\n"
     ]
    },
    {
     "name": "stdout",
     "output_type": "stream",
     "text": [
      "\u001b[34m\u001b[1malbumentations: \u001b[0mBlur(p=0.01, blur_limit=(3, 7)), MedianBlur(p=0.01, blur_limit=(3, 7)), ToGray(p=0.01), CLAHE(p=0.01, clip_limit=(1, 4.0), tile_grid_size=(8, 8))\n"
     ]
    },
    {
     "name": "stderr",
     "output_type": "stream",
     "text": [
      "\u001b[34m\u001b[1mval: \u001b[0mScanning C:\\Users\\91964\\OneDrive\\Desktop\\PAD_Rishi\\Id-card-1\\valid\\labels.cache... 248 images, 22 backgrounds, 0 corrupt: 100%|██████████| 248/248 [00:00<?, ?it/s]\n"
     ]
    },
    {
     "name": "stdout",
     "output_type": "stream",
     "text": [
      "Plotting labels to runs\\detect\\train3\\labels.jpg... \n",
      "\u001b[34m\u001b[1moptimizer:\u001b[0m 'optimizer=auto' found, ignoring 'lr0=0.01' and 'momentum=0.937' and determining best 'optimizer', 'lr0' and 'momentum' automatically... \n",
      "\u001b[34m\u001b[1moptimizer:\u001b[0m AdamW(lr=0.001667, momentum=0.9) with parameter groups 57 weight(decay=0.0), 64 weight(decay=0.0005), 63 bias(decay=0.0)\n",
      "\u001b[34m\u001b[1mTensorBoard: \u001b[0mmodel graph visualization added \n",
      "Image sizes 416 train, 416 val\n",
      "Using 0 dataloader workers\n",
      "Logging results to \u001b[1mruns\\detect\\train3\u001b[0m\n",
      "Starting training for 50 epochs...\n",
      "\n",
      "      Epoch    GPU_mem   box_loss   cls_loss   dfl_loss  Instances       Size\n"
     ]
    },
    {
     "name": "stderr",
     "output_type": "stream",
     "text": [
      "       1/50         0G      1.334      1.824      1.426          1        416: 100%|██████████| 443/443 [23:48<00:00,  3.22s/it]  \n",
      "                 Class     Images  Instances      Box(P          R      mAP50  mAP50-95): 100%|██████████| 31/31 [00:24<00:00,  1.25it/s]"
     ]
    },
    {
     "name": "stdout",
     "output_type": "stream",
     "text": [
      "                   all        248        258      0.623      0.748      0.842      0.563\n"
     ]
    },
    {
     "name": "stderr",
     "output_type": "stream",
     "text": [
      "\n"
     ]
    },
    {
     "name": "stdout",
     "output_type": "stream",
     "text": [
      "\n",
      "      Epoch    GPU_mem   box_loss   cls_loss   dfl_loss  Instances       Size\n"
     ]
    },
    {
     "name": "stderr",
     "output_type": "stream",
     "text": [
      "       2/50         0G      1.464      1.498      1.494          4        416: 100%|██████████| 443/443 [31:44<00:00,  4.30s/it]  \n",
      "                 Class     Images  Instances      Box(P          R      mAP50  mAP50-95): 100%|██████████| 31/31 [02:05<00:00,  4.04s/it]"
     ]
    },
    {
     "name": "stdout",
     "output_type": "stream",
     "text": [
      "                   all        248        258      0.643      0.674      0.643      0.416\n"
     ]
    },
    {
     "name": "stderr",
     "output_type": "stream",
     "text": [
      "\n"
     ]
    },
    {
     "name": "stdout",
     "output_type": "stream",
     "text": [
      "\n",
      "      Epoch    GPU_mem   box_loss   cls_loss   dfl_loss  Instances       Size\n"
     ]
    },
    {
     "name": "stderr",
     "output_type": "stream",
     "text": [
      "       3/50         0G      1.475      1.476      1.475          2        416: 100%|██████████| 443/443 [21:43<00:00,  2.94s/it] \n",
      "                 Class     Images  Instances      Box(P          R      mAP50  mAP50-95): 100%|██████████| 31/31 [00:33<00:00,  1.08s/it]"
     ]
    },
    {
     "name": "stdout",
     "output_type": "stream",
     "text": [
      "                   all        248        258      0.822      0.679      0.764       0.48\n"
     ]
    },
    {
     "name": "stderr",
     "output_type": "stream",
     "text": [
      "\n"
     ]
    },
    {
     "name": "stdout",
     "output_type": "stream",
     "text": [
      "\n",
      "      Epoch    GPU_mem   box_loss   cls_loss   dfl_loss  Instances       Size\n"
     ]
    },
    {
     "name": "stderr",
     "output_type": "stream",
     "text": [
      "       4/50         0G       1.46      1.372      1.464          4        416: 100%|██████████| 443/443 [12:06<00:00,  1.64s/it]\n",
      "                 Class     Images  Instances      Box(P          R      mAP50  mAP50-95): 100%|██████████| 31/31 [00:46<00:00,  1.50s/it]"
     ]
    },
    {
     "name": "stdout",
     "output_type": "stream",
     "text": [
      "                   all        248        258      0.673      0.776      0.743      0.452\n"
     ]
    },
    {
     "name": "stderr",
     "output_type": "stream",
     "text": [
      "\n"
     ]
    },
    {
     "name": "stdout",
     "output_type": "stream",
     "text": [
      "\n",
      "      Epoch    GPU_mem   box_loss   cls_loss   dfl_loss  Instances       Size\n"
     ]
    },
    {
     "name": "stderr",
     "output_type": "stream",
     "text": [
      "       5/50         0G      1.381      1.253      1.398          2        416: 100%|██████████| 443/443 [07:37<00:00,  1.03s/it]\n",
      "                 Class     Images  Instances      Box(P          R      mAP50  mAP50-95): 100%|██████████| 31/31 [00:19<00:00,  1.60it/s]"
     ]
    },
    {
     "name": "stdout",
     "output_type": "stream",
     "text": [
      "                   all        248        258      0.848       0.79      0.872      0.609\n"
     ]
    },
    {
     "name": "stderr",
     "output_type": "stream",
     "text": [
      "\n"
     ]
    },
    {
     "name": "stdout",
     "output_type": "stream",
     "text": [
      "\n",
      "      Epoch    GPU_mem   box_loss   cls_loss   dfl_loss  Instances       Size\n"
     ]
    },
    {
     "name": "stderr",
     "output_type": "stream",
     "text": [
      "       6/50         0G      1.307       1.14      1.362          3        416: 100%|██████████| 443/443 [14:55<00:00,  2.02s/it]\n",
      "                 Class     Images  Instances      Box(P          R      mAP50  mAP50-95): 100%|██████████| 31/31 [00:16<00:00,  1.87it/s]"
     ]
    },
    {
     "name": "stdout",
     "output_type": "stream",
     "text": [
      "                   all        248        258      0.885      0.873      0.887      0.631\n"
     ]
    },
    {
     "name": "stderr",
     "output_type": "stream",
     "text": [
      "\n"
     ]
    },
    {
     "name": "stdout",
     "output_type": "stream",
     "text": [
      "\n",
      "      Epoch    GPU_mem   box_loss   cls_loss   dfl_loss  Instances       Size\n"
     ]
    },
    {
     "name": "stderr",
     "output_type": "stream",
     "text": [
      "       7/50         0G       1.26      1.094      1.319          2        416: 100%|██████████| 443/443 [05:58<00:00,  1.24it/s]\n",
      "                 Class     Images  Instances      Box(P          R      mAP50  mAP50-95): 100%|██████████| 31/31 [00:16<00:00,  1.87it/s]"
     ]
    },
    {
     "name": "stdout",
     "output_type": "stream",
     "text": [
      "                   all        248        258      0.859      0.842      0.895      0.649\n"
     ]
    },
    {
     "name": "stderr",
     "output_type": "stream",
     "text": [
      "\n"
     ]
    },
    {
     "name": "stdout",
     "output_type": "stream",
     "text": [
      "\n",
      "      Epoch    GPU_mem   box_loss   cls_loss   dfl_loss  Instances       Size\n"
     ]
    },
    {
     "name": "stderr",
     "output_type": "stream",
     "text": [
      "       8/50         0G      1.224      1.039      1.289          2        416: 100%|██████████| 443/443 [05:47<00:00,  1.27it/s]\n",
      "                 Class     Images  Instances      Box(P          R      mAP50  mAP50-95): 100%|██████████| 31/31 [00:16<00:00,  1.90it/s]"
     ]
    },
    {
     "name": "stdout",
     "output_type": "stream",
     "text": [
      "                   all        248        258      0.905      0.854      0.915       0.66\n"
     ]
    },
    {
     "name": "stderr",
     "output_type": "stream",
     "text": [
      "\n"
     ]
    },
    {
     "name": "stdout",
     "output_type": "stream",
     "text": [
      "\n",
      "      Epoch    GPU_mem   box_loss   cls_loss   dfl_loss  Instances       Size\n"
     ]
    },
    {
     "name": "stderr",
     "output_type": "stream",
     "text": [
      "       9/50         0G      1.174     0.9798      1.257          2        416: 100%|██████████| 443/443 [05:44<00:00,  1.29it/s]\n",
      "                 Class     Images  Instances      Box(P          R      mAP50  mAP50-95): 100%|██████████| 31/31 [00:16<00:00,  1.90it/s]"
     ]
    },
    {
     "name": "stdout",
     "output_type": "stream",
     "text": [
      "                   all        248        258      0.889      0.808      0.883      0.648\n"
     ]
    },
    {
     "name": "stderr",
     "output_type": "stream",
     "text": [
      "\n"
     ]
    },
    {
     "name": "stdout",
     "output_type": "stream",
     "text": [
      "\n",
      "      Epoch    GPU_mem   box_loss   cls_loss   dfl_loss  Instances       Size\n"
     ]
    },
    {
     "name": "stderr",
     "output_type": "stream",
     "text": [
      "      10/50         0G      1.132     0.9404      1.227          2        416: 100%|██████████| 443/443 [10:33<00:00,  1.43s/it]\n",
      "                 Class     Images  Instances      Box(P          R      mAP50  mAP50-95): 100%|██████████| 31/31 [00:19<00:00,  1.56it/s]"
     ]
    },
    {
     "name": "stdout",
     "output_type": "stream",
     "text": [
      "                   all        248        258      0.876      0.858      0.922      0.683\n"
     ]
    },
    {
     "name": "stderr",
     "output_type": "stream",
     "text": [
      "\n"
     ]
    },
    {
     "name": "stdout",
     "output_type": "stream",
     "text": [
      "\n",
      "      Epoch    GPU_mem   box_loss   cls_loss   dfl_loss  Instances       Size\n"
     ]
    },
    {
     "name": "stderr",
     "output_type": "stream",
     "text": [
      "      11/50         0G      1.108     0.8829      1.217          6        416: 100%|██████████| 443/443 [05:56<00:00,  1.24it/s]\n",
      "                 Class     Images  Instances      Box(P          R      mAP50  mAP50-95): 100%|██████████| 31/31 [00:16<00:00,  1.90it/s]"
     ]
    },
    {
     "name": "stdout",
     "output_type": "stream",
     "text": [
      "                   all        248        258      0.953      0.842      0.915      0.687\n"
     ]
    },
    {
     "name": "stderr",
     "output_type": "stream",
     "text": [
      "\n"
     ]
    },
    {
     "name": "stdout",
     "output_type": "stream",
     "text": [
      "\n",
      "      Epoch    GPU_mem   box_loss   cls_loss   dfl_loss  Instances       Size\n"
     ]
    },
    {
     "name": "stderr",
     "output_type": "stream",
     "text": [
      "      12/50         0G       1.11      0.883      1.208         13        416: 100%|██████████| 443/443 [57:12<00:00,  7.75s/it]    \n",
      "                 Class     Images  Instances      Box(P          R      mAP50  mAP50-95): 100%|██████████| 31/31 [00:27<00:00,  1.13it/s]"
     ]
    },
    {
     "name": "stdout",
     "output_type": "stream",
     "text": [
      "                   all        248        258      0.956      0.846      0.932      0.706\n"
     ]
    },
    {
     "name": "stderr",
     "output_type": "stream",
     "text": [
      "\n"
     ]
    },
    {
     "name": "stdout",
     "output_type": "stream",
     "text": [
      "\n",
      "      Epoch    GPU_mem   box_loss   cls_loss   dfl_loss  Instances       Size\n"
     ]
    },
    {
     "name": "stderr",
     "output_type": "stream",
     "text": [
      "      13/50         0G      1.094     0.8564      1.198          4        416: 100%|██████████| 443/443 [19:15<00:00,  2.61s/it]\n",
      "                 Class     Images  Instances      Box(P          R      mAP50  mAP50-95): 100%|██████████| 31/31 [00:17<00:00,  1.74it/s]"
     ]
    },
    {
     "name": "stdout",
     "output_type": "stream",
     "text": [
      "                   all        248        258      0.928      0.875      0.944      0.709\n"
     ]
    },
    {
     "name": "stderr",
     "output_type": "stream",
     "text": [
      "\n"
     ]
    },
    {
     "name": "stdout",
     "output_type": "stream",
     "text": [
      "\n",
      "      Epoch    GPU_mem   box_loss   cls_loss   dfl_loss  Instances       Size\n"
     ]
    },
    {
     "name": "stderr",
     "output_type": "stream",
     "text": [
      "      14/50         0G      1.077     0.8228      1.179          2        416: 100%|██████████| 443/443 [11:29<00:00,  1.56s/it]\n",
      "                 Class     Images  Instances      Box(P          R      mAP50  mAP50-95): 100%|██████████| 31/31 [00:17<00:00,  1.74it/s]"
     ]
    },
    {
     "name": "stdout",
     "output_type": "stream",
     "text": [
      "                   all        248        258      0.911      0.906      0.939      0.681\n"
     ]
    },
    {
     "name": "stderr",
     "output_type": "stream",
     "text": [
      "\n"
     ]
    },
    {
     "name": "stdout",
     "output_type": "stream",
     "text": [
      "\n",
      "      Epoch    GPU_mem   box_loss   cls_loss   dfl_loss  Instances       Size\n"
     ]
    },
    {
     "name": "stderr",
     "output_type": "stream",
     "text": [
      "      15/50         0G      1.048     0.7826      1.168          6        416: 100%|██████████| 443/443 [07:29<00:00,  1.02s/it]\n",
      "                 Class     Images  Instances      Box(P          R      mAP50  mAP50-95): 100%|██████████| 31/31 [00:17<00:00,  1.73it/s]"
     ]
    },
    {
     "name": "stdout",
     "output_type": "stream",
     "text": [
      "                   all        248        258       0.95      0.864      0.932      0.715\n"
     ]
    },
    {
     "name": "stderr",
     "output_type": "stream",
     "text": [
      "\n"
     ]
    },
    {
     "name": "stdout",
     "output_type": "stream",
     "text": [
      "\n",
      "      Epoch    GPU_mem   box_loss   cls_loss   dfl_loss  Instances       Size\n"
     ]
    },
    {
     "name": "stderr",
     "output_type": "stream",
     "text": [
      "      16/50         0G      1.019     0.7677       1.15          6        416: 100%|██████████| 443/443 [07:34<00:00,  1.03s/it]\n",
      "                 Class     Images  Instances      Box(P          R      mAP50  mAP50-95): 100%|██████████| 31/31 [00:22<00:00,  1.38it/s]"
     ]
    },
    {
     "name": "stdout",
     "output_type": "stream",
     "text": [
      "                   all        248        258      0.935      0.908       0.95      0.728\n"
     ]
    },
    {
     "name": "stderr",
     "output_type": "stream",
     "text": [
      "\n"
     ]
    },
    {
     "name": "stdout",
     "output_type": "stream",
     "text": [
      "\n",
      "      Epoch    GPU_mem   box_loss   cls_loss   dfl_loss  Instances       Size\n"
     ]
    },
    {
     "name": "stderr",
     "output_type": "stream",
     "text": [
      "      17/50         0G      1.013     0.7445      1.154          5        416: 100%|██████████| 443/443 [06:23<00:00,  1.15it/s]\n",
      "                 Class     Images  Instances      Box(P          R      mAP50  mAP50-95): 100%|██████████| 31/31 [00:16<00:00,  1.86it/s]"
     ]
    },
    {
     "name": "stdout",
     "output_type": "stream",
     "text": [
      "                   all        248        258      0.916      0.859      0.939      0.747\n"
     ]
    },
    {
     "name": "stderr",
     "output_type": "stream",
     "text": [
      "\n"
     ]
    },
    {
     "name": "stdout",
     "output_type": "stream",
     "text": [
      "\n",
      "      Epoch    GPU_mem   box_loss   cls_loss   dfl_loss  Instances       Size\n"
     ]
    },
    {
     "name": "stderr",
     "output_type": "stream",
     "text": [
      "      18/50         0G      1.005     0.7427      1.148          3        416: 100%|██████████| 443/443 [05:47<00:00,  1.28it/s]\n",
      "                 Class     Images  Instances      Box(P          R      mAP50  mAP50-95): 100%|██████████| 31/31 [00:16<00:00,  1.85it/s]"
     ]
    },
    {
     "name": "stdout",
     "output_type": "stream",
     "text": [
      "                   all        248        258      0.925        0.9      0.946      0.742\n"
     ]
    },
    {
     "name": "stderr",
     "output_type": "stream",
     "text": [
      "\n"
     ]
    },
    {
     "name": "stdout",
     "output_type": "stream",
     "text": [
      "\n",
      "      Epoch    GPU_mem   box_loss   cls_loss   dfl_loss  Instances       Size\n"
     ]
    },
    {
     "name": "stderr",
     "output_type": "stream",
     "text": [
      "      19/50         0G     0.9761     0.7058      1.145          3        416: 100%|██████████| 443/443 [05:48<00:00,  1.27it/s]\n",
      "                 Class     Images  Instances      Box(P          R      mAP50  mAP50-95): 100%|██████████| 31/31 [00:16<00:00,  1.87it/s]"
     ]
    },
    {
     "name": "stdout",
     "output_type": "stream",
     "text": [
      "                   all        248        258      0.976      0.913       0.95      0.747\n"
     ]
    },
    {
     "name": "stderr",
     "output_type": "stream",
     "text": [
      "\n"
     ]
    },
    {
     "name": "stdout",
     "output_type": "stream",
     "text": [
      "\n",
      "      Epoch    GPU_mem   box_loss   cls_loss   dfl_loss  Instances       Size\n"
     ]
    },
    {
     "name": "stderr",
     "output_type": "stream",
     "text": [
      "      20/50         0G     0.9588     0.6907      1.117          3        416: 100%|██████████| 443/443 [06:00<00:00,  1.23it/s]\n",
      "                 Class     Images  Instances      Box(P          R      mAP50  mAP50-95): 100%|██████████| 31/31 [00:16<00:00,  1.92it/s]"
     ]
    },
    {
     "name": "stdout",
     "output_type": "stream",
     "text": [
      "                   all        248        258      0.937      0.919      0.954      0.755\n"
     ]
    },
    {
     "name": "stderr",
     "output_type": "stream",
     "text": [
      "\n"
     ]
    },
    {
     "name": "stdout",
     "output_type": "stream",
     "text": [
      "\n",
      "      Epoch    GPU_mem   box_loss   cls_loss   dfl_loss  Instances       Size\n"
     ]
    },
    {
     "name": "stderr",
     "output_type": "stream",
     "text": [
      "      21/50         0G     0.9643     0.6698      1.111          3        416: 100%|██████████| 443/443 [05:53<00:00,  1.25it/s]\n",
      "                 Class     Images  Instances      Box(P          R      mAP50  mAP50-95): 100%|██████████| 31/31 [00:16<00:00,  1.89it/s]"
     ]
    },
    {
     "name": "stdout",
     "output_type": "stream",
     "text": [
      "                   all        248        258      0.952      0.924      0.955      0.759\n"
     ]
    },
    {
     "name": "stderr",
     "output_type": "stream",
     "text": [
      "\n"
     ]
    },
    {
     "name": "stdout",
     "output_type": "stream",
     "text": [
      "\n",
      "      Epoch    GPU_mem   box_loss   cls_loss   dfl_loss  Instances       Size\n"
     ]
    },
    {
     "name": "stderr",
     "output_type": "stream",
     "text": [
      "      22/50         0G     0.9305     0.6505      1.095          3        416: 100%|██████████| 443/443 [05:44<00:00,  1.29it/s]\n",
      "                 Class     Images  Instances      Box(P          R      mAP50  mAP50-95): 100%|██████████| 31/31 [00:16<00:00,  1.83it/s]"
     ]
    },
    {
     "name": "stdout",
     "output_type": "stream",
     "text": [
      "                   all        248        258      0.945      0.919      0.958       0.73\n"
     ]
    },
    {
     "name": "stderr",
     "output_type": "stream",
     "text": [
      "\n"
     ]
    },
    {
     "name": "stdout",
     "output_type": "stream",
     "text": [
      "\n",
      "      Epoch    GPU_mem   box_loss   cls_loss   dfl_loss  Instances       Size\n"
     ]
    },
    {
     "name": "stderr",
     "output_type": "stream",
     "text": [
      "      23/50         0G     0.9504     0.6713        1.1          4        416: 100%|██████████| 443/443 [05:51<00:00,  1.26it/s]\n",
      "                 Class     Images  Instances      Box(P          R      mAP50  mAP50-95): 100%|██████████| 31/31 [00:16<00:00,  1.89it/s]"
     ]
    },
    {
     "name": "stdout",
     "output_type": "stream",
     "text": [
      "                   all        248        258      0.918      0.925      0.947      0.758\n"
     ]
    },
    {
     "name": "stderr",
     "output_type": "stream",
     "text": [
      "\n"
     ]
    },
    {
     "name": "stdout",
     "output_type": "stream",
     "text": [
      "\n",
      "      Epoch    GPU_mem   box_loss   cls_loss   dfl_loss  Instances       Size\n"
     ]
    },
    {
     "name": "stderr",
     "output_type": "stream",
     "text": [
      "      24/50         0G     0.9275     0.6616      1.093          1        416: 100%|██████████| 443/443 [05:53<00:00,  1.25it/s]\n",
      "                 Class     Images  Instances      Box(P          R      mAP50  mAP50-95): 100%|██████████| 31/31 [00:16<00:00,  1.92it/s]"
     ]
    },
    {
     "name": "stdout",
     "output_type": "stream",
     "text": [
      "                   all        248        258      0.951      0.906      0.953       0.77\n"
     ]
    },
    {
     "name": "stderr",
     "output_type": "stream",
     "text": [
      "\n"
     ]
    },
    {
     "name": "stdout",
     "output_type": "stream",
     "text": [
      "\n",
      "      Epoch    GPU_mem   box_loss   cls_loss   dfl_loss  Instances       Size\n"
     ]
    },
    {
     "name": "stderr",
     "output_type": "stream",
     "text": [
      "      25/50         0G     0.9308     0.6367      1.096          5        416: 100%|██████████| 443/443 [05:57<00:00,  1.24it/s]\n",
      "                 Class     Images  Instances      Box(P          R      mAP50  mAP50-95): 100%|██████████| 31/31 [00:16<00:00,  1.88it/s]"
     ]
    },
    {
     "name": "stdout",
     "output_type": "stream",
     "text": [
      "                   all        248        258      0.929       0.93      0.959      0.757\n"
     ]
    },
    {
     "name": "stderr",
     "output_type": "stream",
     "text": [
      "\n"
     ]
    },
    {
     "name": "stdout",
     "output_type": "stream",
     "text": [
      "\n",
      "      Epoch    GPU_mem   box_loss   cls_loss   dfl_loss  Instances       Size\n"
     ]
    },
    {
     "name": "stderr",
     "output_type": "stream",
     "text": [
      "      26/50         0G     0.9093     0.6259      1.082          1        416: 100%|██████████| 443/443 [05:48<00:00,  1.27it/s]\n",
      "                 Class     Images  Instances      Box(P          R      mAP50  mAP50-95): 100%|██████████| 31/31 [00:16<00:00,  1.87it/s]"
     ]
    },
    {
     "name": "stdout",
     "output_type": "stream",
     "text": [
      "                   all        248        258      0.925      0.925      0.937      0.744\n"
     ]
    },
    {
     "name": "stderr",
     "output_type": "stream",
     "text": [
      "\n"
     ]
    },
    {
     "name": "stdout",
     "output_type": "stream",
     "text": [
      "\n",
      "      Epoch    GPU_mem   box_loss   cls_loss   dfl_loss  Instances       Size\n"
     ]
    },
    {
     "name": "stderr",
     "output_type": "stream",
     "text": [
      "      27/50         0G      0.893     0.6091      1.087          4        416: 100%|██████████| 443/443 [05:48<00:00,  1.27it/s]\n",
      "                 Class     Images  Instances      Box(P          R      mAP50  mAP50-95): 100%|██████████| 31/31 [00:16<00:00,  1.88it/s]"
     ]
    },
    {
     "name": "stdout",
     "output_type": "stream",
     "text": [
      "                   all        248        258       0.94      0.919      0.952      0.776\n"
     ]
    },
    {
     "name": "stderr",
     "output_type": "stream",
     "text": [
      "\n"
     ]
    },
    {
     "name": "stdout",
     "output_type": "stream",
     "text": [
      "\n",
      "      Epoch    GPU_mem   box_loss   cls_loss   dfl_loss  Instances       Size\n"
     ]
    },
    {
     "name": "stderr",
     "output_type": "stream",
     "text": [
      "      28/50         0G     0.8862     0.6071      1.074          2        416: 100%|██████████| 443/443 [05:47<00:00,  1.28it/s]\n",
      "                 Class     Images  Instances      Box(P          R      mAP50  mAP50-95): 100%|██████████| 31/31 [00:16<00:00,  1.87it/s]"
     ]
    },
    {
     "name": "stdout",
     "output_type": "stream",
     "text": [
      "                   all        248        258      0.965      0.916      0.957      0.769\n"
     ]
    },
    {
     "name": "stderr",
     "output_type": "stream",
     "text": [
      "\n"
     ]
    },
    {
     "name": "stdout",
     "output_type": "stream",
     "text": [
      "\n",
      "      Epoch    GPU_mem   box_loss   cls_loss   dfl_loss  Instances       Size\n"
     ]
    },
    {
     "name": "stderr",
     "output_type": "stream",
     "text": [
      "      29/50         0G     0.8909     0.5907      1.078          2        416: 100%|██████████| 443/443 [06:23<00:00,  1.15it/s]\n",
      "                 Class     Images  Instances      Box(P          R      mAP50  mAP50-95): 100%|██████████| 31/31 [00:17<00:00,  1.77it/s]"
     ]
    },
    {
     "name": "stdout",
     "output_type": "stream",
     "text": [
      "                   all        248        258      0.931      0.916      0.945      0.771\n"
     ]
    },
    {
     "name": "stderr",
     "output_type": "stream",
     "text": [
      "\n"
     ]
    },
    {
     "name": "stdout",
     "output_type": "stream",
     "text": [
      "\n",
      "      Epoch    GPU_mem   box_loss   cls_loss   dfl_loss  Instances       Size\n"
     ]
    },
    {
     "name": "stderr",
     "output_type": "stream",
     "text": [
      "      30/50         0G     0.8512     0.5547      1.053          2        416: 100%|██████████| 443/443 [07:25<00:00,  1.01s/it]\n",
      "                 Class     Images  Instances      Box(P          R      mAP50  mAP50-95): 100%|██████████| 31/31 [00:17<00:00,  1.76it/s]"
     ]
    },
    {
     "name": "stdout",
     "output_type": "stream",
     "text": [
      "                   all        248        258      0.954      0.935      0.957      0.775\n"
     ]
    },
    {
     "name": "stderr",
     "output_type": "stream",
     "text": [
      "\n"
     ]
    },
    {
     "name": "stdout",
     "output_type": "stream",
     "text": [
      "\n",
      "      Epoch    GPU_mem   box_loss   cls_loss   dfl_loss  Instances       Size\n"
     ]
    },
    {
     "name": "stderr",
     "output_type": "stream",
     "text": [
      "      31/50         0G     0.8509     0.5557      1.056          2        416: 100%|██████████| 443/443 [07:27<00:00,  1.01s/it]\n",
      "                 Class     Images  Instances      Box(P          R      mAP50  mAP50-95): 100%|██████████| 31/31 [00:17<00:00,  1.75it/s]"
     ]
    },
    {
     "name": "stdout",
     "output_type": "stream",
     "text": [
      "                   all        248        258      0.935      0.941      0.959      0.776\n"
     ]
    },
    {
     "name": "stderr",
     "output_type": "stream",
     "text": [
      "\n"
     ]
    },
    {
     "name": "stdout",
     "output_type": "stream",
     "text": [
      "\n",
      "      Epoch    GPU_mem   box_loss   cls_loss   dfl_loss  Instances       Size\n"
     ]
    },
    {
     "name": "stderr",
     "output_type": "stream",
     "text": [
      "      32/50         0G     0.8406     0.5468      1.051          3        416: 100%|██████████| 443/443 [07:23<00:00,  1.00s/it]\n",
      "                 Class     Images  Instances      Box(P          R      mAP50  mAP50-95): 100%|██████████| 31/31 [00:17<00:00,  1.75it/s]"
     ]
    },
    {
     "name": "stdout",
     "output_type": "stream",
     "text": [
      "                   all        248        258      0.949      0.937       0.97      0.783\n"
     ]
    },
    {
     "name": "stderr",
     "output_type": "stream",
     "text": [
      "\n"
     ]
    },
    {
     "name": "stdout",
     "output_type": "stream",
     "text": [
      "\n",
      "      Epoch    GPU_mem   box_loss   cls_loss   dfl_loss  Instances       Size\n"
     ]
    },
    {
     "name": "stderr",
     "output_type": "stream",
     "text": [
      "      33/50         0G     0.8289     0.5362      1.047          3        416: 100%|██████████| 443/443 [4:13:13<00:00, 34.30s/it]      \n",
      "                 Class     Images  Instances      Box(P          R      mAP50  mAP50-95): 100%|██████████| 31/31 [01:39<00:00,  3.20s/it]"
     ]
    },
    {
     "name": "stdout",
     "output_type": "stream",
     "text": [
      "                   all        248        258       0.94       0.93      0.963      0.792\n"
     ]
    },
    {
     "name": "stderr",
     "output_type": "stream",
     "text": [
      "\n"
     ]
    },
    {
     "name": "stdout",
     "output_type": "stream",
     "text": [
      "\n",
      "      Epoch    GPU_mem   box_loss   cls_loss   dfl_loss  Instances       Size\n"
     ]
    },
    {
     "name": "stderr",
     "output_type": "stream",
     "text": [
      "      34/50         0G     0.8192     0.5335      1.036          5        416: 100%|██████████| 443/443 [41:21<00:00,  5.60s/it]\n",
      "                 Class     Images  Instances      Box(P          R      mAP50  mAP50-95): 100%|██████████| 31/31 [01:23<00:00,  2.70s/it]"
     ]
    },
    {
     "name": "stdout",
     "output_type": "stream",
     "text": [
      "                   all        248        258      0.948      0.927      0.961      0.788\n"
     ]
    },
    {
     "name": "stderr",
     "output_type": "stream",
     "text": [
      "\n"
     ]
    },
    {
     "name": "stdout",
     "output_type": "stream",
     "text": [
      "\n",
      "      Epoch    GPU_mem   box_loss   cls_loss   dfl_loss  Instances       Size\n"
     ]
    },
    {
     "name": "stderr",
     "output_type": "stream",
     "text": [
      "      35/50         0G     0.8431      0.542      1.054          3        416: 100%|██████████| 443/443 [10:19<00:00,  1.40s/it]\n",
      "                 Class     Images  Instances      Box(P          R      mAP50  mAP50-95): 100%|██████████| 31/31 [00:26<00:00,  1.18it/s]"
     ]
    },
    {
     "name": "stdout",
     "output_type": "stream",
     "text": [
      "                   all        248        258      0.946      0.933      0.958      0.776\n"
     ]
    },
    {
     "name": "stderr",
     "output_type": "stream",
     "text": [
      "\n"
     ]
    },
    {
     "name": "stdout",
     "output_type": "stream",
     "text": [
      "\n",
      "      Epoch    GPU_mem   box_loss   cls_loss   dfl_loss  Instances       Size\n"
     ]
    },
    {
     "name": "stderr",
     "output_type": "stream",
     "text": [
      "      36/50         0G     0.8083     0.5187       1.03          3        416: 100%|██████████| 443/443 [10:06<00:00,  1.37s/it]\n",
      "                 Class     Images  Instances      Box(P          R      mAP50  mAP50-95): 100%|██████████| 31/31 [00:38<00:00,  1.23s/it]"
     ]
    },
    {
     "name": "stdout",
     "output_type": "stream",
     "text": [
      "                   all        248        258      0.939      0.948      0.962      0.786\n"
     ]
    },
    {
     "name": "stderr",
     "output_type": "stream",
     "text": [
      "\n"
     ]
    },
    {
     "name": "stdout",
     "output_type": "stream",
     "text": [
      "\n",
      "      Epoch    GPU_mem   box_loss   cls_loss   dfl_loss  Instances       Size\n"
     ]
    },
    {
     "name": "stderr",
     "output_type": "stream",
     "text": [
      "      37/50         0G     0.8037     0.5054      1.033          8        416: 100%|██████████| 443/443 [21:01<00:00,  2.85s/it]    \n",
      "                 Class     Images  Instances      Box(P          R      mAP50  mAP50-95): 100%|██████████| 31/31 [00:17<00:00,  1.77it/s]"
     ]
    },
    {
     "name": "stdout",
     "output_type": "stream",
     "text": [
      "                   all        248        258      0.953      0.938       0.96       0.79\n"
     ]
    },
    {
     "name": "stderr",
     "output_type": "stream",
     "text": [
      "\n"
     ]
    },
    {
     "name": "stdout",
     "output_type": "stream",
     "text": [
      "\n",
      "      Epoch    GPU_mem   box_loss   cls_loss   dfl_loss  Instances       Size\n"
     ]
    },
    {
     "name": "stderr",
     "output_type": "stream",
     "text": [
      "      38/50         0G     0.8031     0.5148      1.031          3        416: 100%|██████████| 443/443 [06:09<00:00,  1.20it/s]\n",
      "                 Class     Images  Instances      Box(P          R      mAP50  mAP50-95): 100%|██████████| 31/31 [00:17<00:00,  1.79it/s]"
     ]
    },
    {
     "name": "stdout",
     "output_type": "stream",
     "text": [
      "                   all        248        258      0.944      0.933      0.957      0.787\n"
     ]
    },
    {
     "name": "stderr",
     "output_type": "stream",
     "text": [
      "\n"
     ]
    },
    {
     "name": "stdout",
     "output_type": "stream",
     "text": [
      "\n",
      "      Epoch    GPU_mem   box_loss   cls_loss   dfl_loss  Instances       Size\n"
     ]
    },
    {
     "name": "stderr",
     "output_type": "stream",
     "text": [
      "      39/50         0G     0.8054     0.5049      1.035          2        416: 100%|██████████| 443/443 [06:13<00:00,  1.19it/s]\n",
      "                 Class     Images  Instances      Box(P          R      mAP50  mAP50-95): 100%|██████████| 31/31 [00:17<00:00,  1.77it/s]"
     ]
    },
    {
     "name": "stdout",
     "output_type": "stream",
     "text": [
      "                   all        248        258      0.956      0.925       0.96      0.777\n"
     ]
    },
    {
     "name": "stderr",
     "output_type": "stream",
     "text": [
      "\n"
     ]
    },
    {
     "name": "stdout",
     "output_type": "stream",
     "text": [
      "\n",
      "      Epoch    GPU_mem   box_loss   cls_loss   dfl_loss  Instances       Size\n"
     ]
    },
    {
     "name": "stderr",
     "output_type": "stream",
     "text": [
      "      40/50         0G     0.7724     0.4917      1.015          5        416: 100%|██████████| 443/443 [06:46<00:00,  1.09it/s]\n",
      "                 Class     Images  Instances      Box(P          R      mAP50  mAP50-95): 100%|██████████| 31/31 [00:18<00:00,  1.71it/s]"
     ]
    },
    {
     "name": "stdout",
     "output_type": "stream",
     "text": [
      "                   all        248        258      0.954      0.938      0.961      0.794\n"
     ]
    },
    {
     "name": "stderr",
     "output_type": "stream",
     "text": [
      "\n"
     ]
    },
    {
     "name": "stdout",
     "output_type": "stream",
     "text": [
      "Closing dataloader mosaic\n",
      "\u001b[34m\u001b[1malbumentations: \u001b[0mBlur(p=0.01, blur_limit=(3, 7)), MedianBlur(p=0.01, blur_limit=(3, 7)), ToGray(p=0.01), CLAHE(p=0.01, clip_limit=(1, 4.0), tile_grid_size=(8, 8))\n",
      "\n",
      "      Epoch    GPU_mem   box_loss   cls_loss   dfl_loss  Instances       Size\n"
     ]
    },
    {
     "name": "stderr",
     "output_type": "stream",
     "text": [
      "      41/50         0G     0.7073     0.3744     0.9575          2        416: 100%|██████████| 443/443 [08:43<00:00,  1.18s/it]\n",
      "                 Class     Images  Instances      Box(P          R      mAP50  mAP50-95): 100%|██████████| 31/31 [00:25<00:00,  1.21it/s]"
     ]
    },
    {
     "name": "stdout",
     "output_type": "stream",
     "text": [
      "                   all        248        258      0.933      0.944      0.961      0.782\n"
     ]
    },
    {
     "name": "stderr",
     "output_type": "stream",
     "text": [
      "\n"
     ]
    },
    {
     "name": "stdout",
     "output_type": "stream",
     "text": [
      "\n",
      "      Epoch    GPU_mem   box_loss   cls_loss   dfl_loss  Instances       Size\n"
     ]
    },
    {
     "name": "stderr",
     "output_type": "stream",
     "text": [
      "      42/50         0G     0.7052     0.3729     0.9624          1        416: 100%|██████████| 443/443 [09:49<00:00,  1.33s/it]\n",
      "                 Class     Images  Instances      Box(P          R      mAP50  mAP50-95): 100%|██████████| 31/31 [00:25<00:00,  1.22it/s]"
     ]
    },
    {
     "name": "stdout",
     "output_type": "stream",
     "text": [
      "                   all        248        258      0.933      0.939      0.959      0.792\n"
     ]
    },
    {
     "name": "stderr",
     "output_type": "stream",
     "text": [
      "\n"
     ]
    },
    {
     "name": "stdout",
     "output_type": "stream",
     "text": [
      "\n",
      "      Epoch    GPU_mem   box_loss   cls_loss   dfl_loss  Instances       Size\n"
     ]
    },
    {
     "name": "stderr",
     "output_type": "stream",
     "text": [
      "      43/50         0G     0.7018      0.366     0.9632          2        416: 100%|██████████| 443/443 [09:54<00:00,  1.34s/it]\n",
      "                 Class     Images  Instances      Box(P          R      mAP50  mAP50-95): 100%|██████████| 31/31 [00:26<00:00,  1.18it/s]"
     ]
    },
    {
     "name": "stdout",
     "output_type": "stream",
     "text": [
      "                   all        248        258      0.957      0.936      0.965      0.798\n"
     ]
    },
    {
     "name": "stderr",
     "output_type": "stream",
     "text": [
      "\n"
     ]
    },
    {
     "name": "stdout",
     "output_type": "stream",
     "text": [
      "\n",
      "      Epoch    GPU_mem   box_loss   cls_loss   dfl_loss  Instances       Size\n"
     ]
    },
    {
     "name": "stderr",
     "output_type": "stream",
     "text": [
      "      44/50         0G     0.6821      0.358     0.9406          2        416: 100%|██████████| 443/443 [07:40<00:00,  1.04s/it]\n",
      "                 Class     Images  Instances      Box(P          R      mAP50  mAP50-95): 100%|██████████| 31/31 [00:18<00:00,  1.70it/s]"
     ]
    },
    {
     "name": "stdout",
     "output_type": "stream",
     "text": [
      "                   all        248        258      0.963      0.952      0.972      0.805\n"
     ]
    },
    {
     "name": "stderr",
     "output_type": "stream",
     "text": [
      "\n"
     ]
    },
    {
     "name": "stdout",
     "output_type": "stream",
     "text": [
      "\n",
      "      Epoch    GPU_mem   box_loss   cls_loss   dfl_loss  Instances       Size\n"
     ]
    },
    {
     "name": "stderr",
     "output_type": "stream",
     "text": [
      "      45/50         0G     0.6735      0.352     0.9423          3        416: 100%|██████████| 443/443 [05:56<00:00,  1.24it/s]\n",
      "                 Class     Images  Instances      Box(P          R      mAP50  mAP50-95): 100%|██████████| 31/31 [00:17<00:00,  1.81it/s]"
     ]
    },
    {
     "name": "stdout",
     "output_type": "stream",
     "text": [
      "                   all        248        258      0.962      0.946      0.963      0.804\n"
     ]
    },
    {
     "name": "stderr",
     "output_type": "stream",
     "text": [
      "\n"
     ]
    },
    {
     "name": "stdout",
     "output_type": "stream",
     "text": [
      "\n",
      "      Epoch    GPU_mem   box_loss   cls_loss   dfl_loss  Instances       Size\n"
     ]
    },
    {
     "name": "stderr",
     "output_type": "stream",
     "text": [
      "      46/50         0G     0.6618     0.3461     0.9397          3        416: 100%|██████████| 443/443 [05:59<00:00,  1.23it/s]\n",
      "                 Class     Images  Instances      Box(P          R      mAP50  mAP50-95): 100%|██████████| 31/31 [00:17<00:00,  1.78it/s]"
     ]
    },
    {
     "name": "stdout",
     "output_type": "stream",
     "text": [
      "                   all        248        258      0.969      0.951      0.969      0.805\n"
     ]
    },
    {
     "name": "stderr",
     "output_type": "stream",
     "text": [
      "\n"
     ]
    },
    {
     "name": "stdout",
     "output_type": "stream",
     "text": [
      "\n",
      "      Epoch    GPU_mem   box_loss   cls_loss   dfl_loss  Instances       Size\n"
     ]
    },
    {
     "name": "stderr",
     "output_type": "stream",
     "text": [
      "      47/50         0G     0.6504     0.3324     0.9336          1        416: 100%|██████████| 443/443 [06:02<00:00,  1.22it/s]\n",
      "                 Class     Images  Instances      Box(P          R      mAP50  mAP50-95): 100%|██████████| 31/31 [00:17<00:00,  1.77it/s]"
     ]
    },
    {
     "name": "stdout",
     "output_type": "stream",
     "text": [
      "                   all        248        258      0.974       0.94      0.967      0.804\n"
     ]
    },
    {
     "name": "stderr",
     "output_type": "stream",
     "text": [
      "\n"
     ]
    },
    {
     "name": "stdout",
     "output_type": "stream",
     "text": [
      "\n",
      "      Epoch    GPU_mem   box_loss   cls_loss   dfl_loss  Instances       Size\n"
     ]
    },
    {
     "name": "stderr",
     "output_type": "stream",
     "text": [
      "      48/50         0G     0.6332     0.3351     0.9348          2        416: 100%|██████████| 443/443 [06:00<00:00,  1.23it/s]\n",
      "                 Class     Images  Instances      Box(P          R      mAP50  mAP50-95): 100%|██████████| 31/31 [00:17<00:00,  1.74it/s]"
     ]
    },
    {
     "name": "stdout",
     "output_type": "stream",
     "text": [
      "                   all        248        258      0.963      0.952      0.968      0.802\n"
     ]
    },
    {
     "name": "stderr",
     "output_type": "stream",
     "text": [
      "\n"
     ]
    },
    {
     "name": "stdout",
     "output_type": "stream",
     "text": [
      "\n",
      "      Epoch    GPU_mem   box_loss   cls_loss   dfl_loss  Instances       Size\n"
     ]
    },
    {
     "name": "stderr",
     "output_type": "stream",
     "text": [
      "      49/50         0G     0.6287     0.3259     0.9287          3        416: 100%|██████████| 443/443 [06:06<00:00,  1.21it/s]\n",
      "                 Class     Images  Instances      Box(P          R      mAP50  mAP50-95): 100%|██████████| 31/31 [00:17<00:00,  1.82it/s]"
     ]
    },
    {
     "name": "stdout",
     "output_type": "stream",
     "text": [
      "                   all        248        258       0.95      0.943      0.957      0.801\n"
     ]
    },
    {
     "name": "stderr",
     "output_type": "stream",
     "text": [
      "\n"
     ]
    },
    {
     "name": "stdout",
     "output_type": "stream",
     "text": [
      "\n",
      "      Epoch    GPU_mem   box_loss   cls_loss   dfl_loss  Instances       Size\n"
     ]
    },
    {
     "name": "stderr",
     "output_type": "stream",
     "text": [
      "      50/50         0G     0.6304     0.3251     0.9263          2        416: 100%|██████████| 443/443 [05:44<00:00,  1.29it/s]\n",
      "                 Class     Images  Instances      Box(P          R      mAP50  mAP50-95): 100%|██████████| 31/31 [00:17<00:00,  1.79it/s]"
     ]
    },
    {
     "name": "stdout",
     "output_type": "stream",
     "text": [
      "                   all        248        258      0.964      0.949      0.964        0.8\n"
     ]
    },
    {
     "name": "stderr",
     "output_type": "stream",
     "text": [
      "\n"
     ]
    },
    {
     "name": "stdout",
     "output_type": "stream",
     "text": [
      "\n",
      "50 epochs completed in 13.285 hours.\n",
      "Optimizer stripped from runs\\detect\\train3\\weights\\last.pt, 22.5MB\n",
      "Optimizer stripped from runs\\detect\\train3\\weights\\best.pt, 22.5MB\n",
      "\n",
      "Validating runs\\detect\\train3\\weights\\best.pt...\n",
      "Ultralytics 8.3.28  Python-3.11.4 torch-2.4.1+cpu CPU (12th Gen Intel Core(TM) i5-12450H)\n",
      "Model summary (fused): 168 layers, 11,126,358 parameters, 0 gradients, 28.4 GFLOPs\n"
     ]
    },
    {
     "name": "stderr",
     "output_type": "stream",
     "text": [
      "                 Class     Images  Instances      Box(P          R      mAP50  mAP50-95): 100%|██████████| 31/31 [00:16<00:00,  1.93it/s]\n"
     ]
    },
    {
     "name": "stdout",
     "output_type": "stream",
     "text": [
      "                   all        248        258      0.963      0.952      0.972      0.805\n",
      "          Formal Shirt         76         76      0.955      0.987       0.99      0.967\n",
      "               id_card        150        182      0.971      0.917      0.954      0.642\n",
      "Speed: 0.3ms preprocess, 57.1ms inference, 0.0ms loss, 0.1ms postprocess per image\n",
      "Results saved to \u001b[1mruns\\detect\\train3\u001b[0m\n"
     ]
    }
   ],
   "source": [
    "results = model.train(\n",
    "  data=r'C:\\Users\\91964\\OneDrive\\Desktop\\PAD_Rishi\\Id-card-1\\data.yaml',\n",
    "  epochs=50,\n",
    "  batch=4,        # Reduce batch size for CPU\n",
    "  imgsz=416,      # Reduce image size\n",
    "  mosaic=0.5,     # Reduce augmentation\n",
    "  mixup=0.0,\n",
    "  copy_paste=0.1,\n",
    "  device=\"cpu\"    # Use \"cuda\" if available\n",
    ")\n"
   ]
  },
  {
   "cell_type": "code",
   "execution_count": 1,
   "metadata": {},
   "outputs": [
    {
     "name": "stdout",
     "output_type": "stream",
     "text": [
      "\n",
      "image 1/1 C:\\Users\\91964\\OneDrive\\Desktop\\PAD_Rishi\\annotation-fo-idcard.png: 416x320 1 Formal Shirt, 117.1ms\n",
      "Speed: 0.0ms preprocess, 117.1ms inference, 1.0ms postprocess per image at shape (1, 3, 416, 320)\n",
      "No ID card detected ❌\n"
     ]
    }
   ],
   "source": [
    "import cv2\n",
    "import numpy as np\n",
    "from ultralytics import YOLO\n",
    "\n",
    "# ✅ Load the trained YOLO model\n",
    "model = YOLO(r\"C:\\Users\\91964\\OneDrive\\Desktop\\PAD_Rishi\\runs\\detect\\train3\\weights\\best.pt\")\n",
    "\n",
    "# ✅ Run inference on an image\n",
    "image_path = r\"C:\\Users\\91964\\OneDrive\\Desktop\\PAD_Rishi\\annotation-fo-idcard.png\"\n",
    "results = model(image_path)\n",
    "\n",
    "# ✅ Extract detected class names\n",
    "detected_classes = [model.names[int(box.cls)] for result in results for box in result.boxes]\n",
    "\n",
    "# ✅ Check if \"Formal Shirt\" and \"id_card\" are detected\n",
    "formal_detected = \"Formal Shirt\" in detected_classes\n",
    "id_card_detected = \"id_card\" in detected_classes\n",
    "\n",
    "# ✅ Print detection results\n",
    "if not formal_detected:\n",
    "    print(\"Not wearing a formal shirt ❌\")\n",
    "if not id_card_detected:\n",
    "    print(\"No ID card detected ❌\")\n",
    "if formal_detected and id_card_detected:\n",
    "    print(\"✅ Formal Shirt and ID Card detected\")\n",
    "\n",
    "# ✅ Convert results to numpy image and display\n",
    "for result in results:\n",
    "    img = result.plot()  # Get annotated image\n",
    "\n",
    "    # Convert RGB to BGR for OpenCV\n",
    "    img_bgr = cv2.cvtColor(img, cv2.COLOR_RGB2BGR)\n",
    "\n",
    "    # Display image\n",
    "    cv2.imshow(\"YOLO Output\", img_bgr)\n",
    "    cv2.waitKey(0)  # Wait for key press\n",
    "    cv2.destroyAllWindows()  # Close window\n"
   ]
  },
  {
   "cell_type": "code",
   "execution_count": 1,
   "metadata": {},
   "outputs": [
    {
     "name": "stdout",
     "output_type": "stream",
     "text": [
      "\n",
      "0: 320x416 (no detections), 172.8ms\n",
      "Speed: 7.6ms preprocess, 172.8ms inference, 3.4ms postprocess per image at shape (1, 3, 320, 416)\n",
      "❌ Not wearing a formal shirt\n",
      "❌ No ID card detected\n",
      "\n",
      "0: 320x416 1 id_card, 111.2ms\n",
      "Speed: 0.0ms preprocess, 111.2ms inference, 5.0ms postprocess per image at shape (1, 3, 320, 416)\n",
      "❌ Not wearing a formal shirt\n",
      "\n",
      "0: 320x416 1 id_card, 165.8ms\n",
      "Speed: 0.0ms preprocess, 165.8ms inference, 0.0ms postprocess per image at shape (1, 3, 320, 416)\n",
      "❌ Not wearing a formal shirt\n",
      "\n",
      "0: 320x416 1 id_card, 131.1ms\n",
      "Speed: 0.0ms preprocess, 131.1ms inference, 5.9ms postprocess per image at shape (1, 3, 320, 416)\n",
      "❌ Not wearing a formal shirt\n",
      "\n",
      "0: 320x416 1 id_card, 122.8ms\n",
      "Speed: 0.0ms preprocess, 122.8ms inference, 0.0ms postprocess per image at shape (1, 3, 320, 416)\n",
      "❌ Not wearing a formal shirt\n",
      "\n",
      "0: 320x416 1 id_card, 121.2ms\n",
      "Speed: 0.0ms preprocess, 121.2ms inference, 0.0ms postprocess per image at shape (1, 3, 320, 416)\n",
      "❌ Not wearing a formal shirt\n",
      "\n",
      "0: 320x416 1 id_card, 152.2ms\n",
      "Speed: 0.0ms preprocess, 152.2ms inference, 0.0ms postprocess per image at shape (1, 3, 320, 416)\n",
      "❌ Not wearing a formal shirt\n",
      "\n",
      "0: 320x416 1 id_card, 135.6ms\n",
      "Speed: 0.0ms preprocess, 135.6ms inference, 0.0ms postprocess per image at shape (1, 3, 320, 416)\n",
      "❌ Not wearing a formal shirt\n",
      "\n",
      "0: 320x416 1 id_card, 104.6ms\n",
      "Speed: 1.1ms preprocess, 104.6ms inference, 6.6ms postprocess per image at shape (1, 3, 320, 416)\n",
      "❌ Not wearing a formal shirt\n",
      "\n",
      "0: 320x416 1 id_card, 122.1ms\n",
      "Speed: 0.0ms preprocess, 122.1ms inference, 0.0ms postprocess per image at shape (1, 3, 320, 416)\n",
      "❌ Not wearing a formal shirt\n",
      "\n",
      "0: 320x416 1 id_card, 118.6ms\n",
      "Speed: 0.5ms preprocess, 118.6ms inference, 0.0ms postprocess per image at shape (1, 3, 320, 416)\n",
      "❌ Not wearing a formal shirt\n",
      "\n",
      "0: 320x416 1 id_card, 94.2ms\n",
      "Speed: 0.0ms preprocess, 94.2ms inference, 0.0ms postprocess per image at shape (1, 3, 320, 416)\n",
      "❌ Not wearing a formal shirt\n",
      "\n",
      "0: 320x416 1 id_card, 107.3ms\n",
      "Speed: 0.0ms preprocess, 107.3ms inference, 0.0ms postprocess per image at shape (1, 3, 320, 416)\n",
      "❌ Not wearing a formal shirt\n",
      "\n",
      "0: 320x416 1 id_card, 121.0ms\n",
      "Speed: 2.3ms preprocess, 121.0ms inference, 0.0ms postprocess per image at shape (1, 3, 320, 416)\n",
      "❌ Not wearing a formal shirt\n",
      "\n",
      "0: 320x416 1 id_card, 88.6ms\n",
      "Speed: 2.1ms preprocess, 88.6ms inference, 3.7ms postprocess per image at shape (1, 3, 320, 416)\n",
      "❌ Not wearing a formal shirt\n",
      "\n",
      "0: 320x416 1 id_card, 77.5ms\n",
      "Speed: 0.0ms preprocess, 77.5ms inference, 0.0ms postprocess per image at shape (1, 3, 320, 416)\n",
      "❌ Not wearing a formal shirt\n",
      "\n",
      "0: 320x416 1 id_card, 133.3ms\n",
      "Speed: 2.6ms preprocess, 133.3ms inference, 0.0ms postprocess per image at shape (1, 3, 320, 416)\n",
      "❌ Not wearing a formal shirt\n",
      "\n",
      "0: 320x416 1 id_card, 126.1ms\n",
      "Speed: 2.7ms preprocess, 126.1ms inference, 5.2ms postprocess per image at shape (1, 3, 320, 416)\n",
      "❌ Not wearing a formal shirt\n",
      "\n",
      "0: 320x416 1 id_card, 89.9ms\n",
      "Speed: 0.0ms preprocess, 89.9ms inference, 0.0ms postprocess per image at shape (1, 3, 320, 416)\n",
      "❌ Not wearing a formal shirt\n",
      "\n",
      "0: 320x416 1 id_card, 119.7ms\n",
      "Speed: 0.0ms preprocess, 119.7ms inference, 2.0ms postprocess per image at shape (1, 3, 320, 416)\n",
      "❌ Not wearing a formal shirt\n",
      "\n",
      "0: 320x416 1 id_card, 95.3ms\n",
      "Speed: 0.0ms preprocess, 95.3ms inference, 6.6ms postprocess per image at shape (1, 3, 320, 416)\n",
      "❌ Not wearing a formal shirt\n",
      "\n",
      "0: 320x416 1 id_card, 128.0ms\n",
      "Speed: 2.3ms preprocess, 128.0ms inference, 0.0ms postprocess per image at shape (1, 3, 320, 416)\n",
      "❌ Not wearing a formal shirt\n",
      "\n",
      "0: 320x416 1 id_card, 122.8ms\n",
      "Speed: 0.0ms preprocess, 122.8ms inference, 0.0ms postprocess per image at shape (1, 3, 320, 416)\n",
      "❌ Not wearing a formal shirt\n",
      "\n",
      "0: 320x416 (no detections), 89.4ms\n",
      "Speed: 0.0ms preprocess, 89.4ms inference, 0.0ms postprocess per image at shape (1, 3, 320, 416)\n",
      "❌ Not wearing a formal shirt\n",
      "❌ No ID card detected\n",
      "\n",
      "0: 320x416 1 id_card, 82.7ms\n",
      "Speed: 0.0ms preprocess, 82.7ms inference, 0.0ms postprocess per image at shape (1, 3, 320, 416)\n",
      "❌ Not wearing a formal shirt\n",
      "\n",
      "0: 320x416 1 id_card, 113.2ms\n",
      "Speed: 2.1ms preprocess, 113.2ms inference, 0.0ms postprocess per image at shape (1, 3, 320, 416)\n",
      "❌ Not wearing a formal shirt\n",
      "\n",
      "0: 320x416 1 id_card, 88.9ms\n",
      "Speed: 0.0ms preprocess, 88.9ms inference, 0.0ms postprocess per image at shape (1, 3, 320, 416)\n",
      "❌ Not wearing a formal shirt\n",
      "\n",
      "0: 320x416 2 id_cards, 85.6ms\n",
      "Speed: 2.0ms preprocess, 85.6ms inference, 0.0ms postprocess per image at shape (1, 3, 320, 416)\n",
      "❌ Not wearing a formal shirt\n",
      "\n",
      "0: 320x416 1 id_card, 82.0ms\n",
      "Speed: 0.0ms preprocess, 82.0ms inference, 0.0ms postprocess per image at shape (1, 3, 320, 416)\n",
      "❌ Not wearing a formal shirt\n",
      "\n",
      "0: 320x416 1 id_card, 94.5ms\n",
      "Speed: 0.0ms preprocess, 94.5ms inference, 1.0ms postprocess per image at shape (1, 3, 320, 416)\n",
      "❌ Not wearing a formal shirt\n",
      "\n",
      "0: 320x416 1 id_card, 110.2ms\n",
      "Speed: 0.0ms preprocess, 110.2ms inference, 1.3ms postprocess per image at shape (1, 3, 320, 416)\n",
      "❌ Not wearing a formal shirt\n",
      "\n",
      "0: 320x416 1 id_card, 91.6ms\n",
      "Speed: 0.0ms preprocess, 91.6ms inference, 0.0ms postprocess per image at shape (1, 3, 320, 416)\n",
      "❌ Not wearing a formal shirt\n",
      "\n",
      "0: 320x416 1 id_card, 88.9ms\n",
      "Speed: 0.0ms preprocess, 88.9ms inference, 0.0ms postprocess per image at shape (1, 3, 320, 416)\n",
      "❌ Not wearing a formal shirt\n",
      "\n",
      "0: 320x416 1 id_card, 73.7ms\n",
      "Speed: 0.0ms preprocess, 73.7ms inference, 0.0ms postprocess per image at shape (1, 3, 320, 416)\n",
      "❌ Not wearing a formal shirt\n",
      "\n",
      "0: 320x416 1 id_card, 74.3ms\n",
      "Speed: 0.0ms preprocess, 74.3ms inference, 0.0ms postprocess per image at shape (1, 3, 320, 416)\n",
      "❌ Not wearing a formal shirt\n",
      "\n",
      "0: 320x416 1 id_card, 80.8ms\n",
      "Speed: 0.0ms preprocess, 80.8ms inference, 0.0ms postprocess per image at shape (1, 3, 320, 416)\n",
      "❌ Not wearing a formal shirt\n",
      "\n",
      "0: 320x416 2 id_cards, 94.2ms\n",
      "Speed: 0.0ms preprocess, 94.2ms inference, 0.0ms postprocess per image at shape (1, 3, 320, 416)\n",
      "❌ Not wearing a formal shirt\n",
      "\n",
      "0: 320x416 2 id_cards, 131.2ms\n",
      "Speed: 0.0ms preprocess, 131.2ms inference, 6.3ms postprocess per image at shape (1, 3, 320, 416)\n",
      "❌ Not wearing a formal shirt\n",
      "\n",
      "0: 320x416 1 id_card, 141.3ms\n",
      "Speed: 1.5ms preprocess, 141.3ms inference, 0.0ms postprocess per image at shape (1, 3, 320, 416)\n",
      "❌ Not wearing a formal shirt\n",
      "\n",
      "0: 320x416 1 id_card, 122.7ms\n",
      "Speed: 0.0ms preprocess, 122.7ms inference, 0.0ms postprocess per image at shape (1, 3, 320, 416)\n",
      "❌ Not wearing a formal shirt\n",
      "\n",
      "0: 320x416 1 id_card, 79.7ms\n",
      "Speed: 0.0ms preprocess, 79.7ms inference, 0.0ms postprocess per image at shape (1, 3, 320, 416)\n",
      "❌ Not wearing a formal shirt\n",
      "\n",
      "0: 320x416 1 id_card, 74.2ms\n",
      "Speed: 0.0ms preprocess, 74.2ms inference, 0.0ms postprocess per image at shape (1, 3, 320, 416)\n",
      "❌ Not wearing a formal shirt\n",
      "\n",
      "0: 320x416 2 id_cards, 93.0ms\n",
      "Speed: 2.6ms preprocess, 93.0ms inference, 0.0ms postprocess per image at shape (1, 3, 320, 416)\n",
      "❌ Not wearing a formal shirt\n",
      "\n",
      "0: 320x416 1 id_card, 99.6ms\n",
      "Speed: 2.2ms preprocess, 99.6ms inference, 0.0ms postprocess per image at shape (1, 3, 320, 416)\n",
      "❌ Not wearing a formal shirt\n",
      "\n",
      "0: 320x416 1 id_card, 125.7ms\n",
      "Speed: 2.2ms preprocess, 125.7ms inference, 0.0ms postprocess per image at shape (1, 3, 320, 416)\n",
      "❌ Not wearing a formal shirt\n",
      "\n",
      "0: 320x416 1 id_card, 83.0ms\n",
      "Speed: 0.0ms preprocess, 83.0ms inference, 0.0ms postprocess per image at shape (1, 3, 320, 416)\n",
      "❌ Not wearing a formal shirt\n",
      "\n",
      "0: 320x416 1 id_card, 75.5ms\n",
      "Speed: 0.0ms preprocess, 75.5ms inference, 0.0ms postprocess per image at shape (1, 3, 320, 416)\n",
      "❌ Not wearing a formal shirt\n",
      "\n",
      "0: 320x416 2 id_cards, 99.6ms\n",
      "Speed: 2.4ms preprocess, 99.6ms inference, 0.0ms postprocess per image at shape (1, 3, 320, 416)\n",
      "❌ Not wearing a formal shirt\n",
      "\n",
      "0: 320x416 1 id_card, 88.3ms\n",
      "Speed: 0.0ms preprocess, 88.3ms inference, 6.6ms postprocess per image at shape (1, 3, 320, 416)\n",
      "❌ Not wearing a formal shirt\n",
      "\n",
      "0: 320x416 1 id_card, 121.7ms\n",
      "Speed: 0.0ms preprocess, 121.7ms inference, 1.8ms postprocess per image at shape (1, 3, 320, 416)\n",
      "❌ Not wearing a formal shirt\n",
      "\n",
      "0: 320x416 2 id_cards, 115.5ms\n",
      "Speed: 0.0ms preprocess, 115.5ms inference, 6.3ms postprocess per image at shape (1, 3, 320, 416)\n",
      "❌ Not wearing a formal shirt\n",
      "\n",
      "0: 320x416 2 id_cards, 122.1ms\n",
      "Speed: 0.0ms preprocess, 122.1ms inference, 0.0ms postprocess per image at shape (1, 3, 320, 416)\n",
      "❌ Not wearing a formal shirt\n",
      "\n",
      "0: 320x416 1 id_card, 87.9ms\n",
      "Speed: 0.0ms preprocess, 87.9ms inference, 0.0ms postprocess per image at shape (1, 3, 320, 416)\n",
      "❌ Not wearing a formal shirt\n",
      "\n",
      "0: 320x416 1 id_card, 85.9ms\n",
      "Speed: 0.0ms preprocess, 85.9ms inference, 0.0ms postprocess per image at shape (1, 3, 320, 416)\n",
      "❌ Not wearing a formal shirt\n",
      "\n",
      "0: 320x416 1 id_card, 85.9ms\n",
      "Speed: 1.8ms preprocess, 85.9ms inference, 0.0ms postprocess per image at shape (1, 3, 320, 416)\n",
      "❌ Not wearing a formal shirt\n",
      "\n",
      "0: 320x416 (no detections), 73.4ms\n",
      "Speed: 0.0ms preprocess, 73.4ms inference, 0.7ms postprocess per image at shape (1, 3, 320, 416)\n",
      "❌ Not wearing a formal shirt\n",
      "❌ No ID card detected\n",
      "\n",
      "0: 320x416 1 id_card, 75.3ms\n",
      "Speed: 0.0ms preprocess, 75.3ms inference, 0.0ms postprocess per image at shape (1, 3, 320, 416)\n",
      "❌ Not wearing a formal shirt\n",
      "\n",
      "0: 320x416 1 id_card, 76.5ms\n",
      "Speed: 2.5ms preprocess, 76.5ms inference, 0.0ms postprocess per image at shape (1, 3, 320, 416)\n",
      "❌ Not wearing a formal shirt\n",
      "\n",
      "0: 320x416 1 id_card, 149.6ms\n",
      "Speed: 2.0ms preprocess, 149.6ms inference, 0.0ms postprocess per image at shape (1, 3, 320, 416)\n",
      "❌ Not wearing a formal shirt\n",
      "\n",
      "0: 320x416 1 id_card, 122.5ms\n",
      "Speed: 0.0ms preprocess, 122.5ms inference, 0.0ms postprocess per image at shape (1, 3, 320, 416)\n",
      "❌ Not wearing a formal shirt\n",
      "\n",
      "0: 320x416 1 id_card, 87.0ms\n",
      "Speed: 2.6ms preprocess, 87.0ms inference, 0.0ms postprocess per image at shape (1, 3, 320, 416)\n",
      "❌ Not wearing a formal shirt\n",
      "\n",
      "0: 320x416 1 id_card, 87.8ms\n",
      "Speed: 1.1ms preprocess, 87.8ms inference, 0.0ms postprocess per image at shape (1, 3, 320, 416)\n",
      "❌ Not wearing a formal shirt\n",
      "\n",
      "0: 320x416 1 id_card, 120.9ms\n",
      "Speed: 0.5ms preprocess, 120.9ms inference, 0.0ms postprocess per image at shape (1, 3, 320, 416)\n",
      "❌ Not wearing a formal shirt\n",
      "\n",
      "0: 320x416 1 id_card, 108.5ms\n",
      "Speed: 0.0ms preprocess, 108.5ms inference, 0.6ms postprocess per image at shape (1, 3, 320, 416)\n",
      "❌ Not wearing a formal shirt\n",
      "\n",
      "0: 320x416 1 id_card, 115.5ms\n",
      "Speed: 0.0ms preprocess, 115.5ms inference, 0.0ms postprocess per image at shape (1, 3, 320, 416)\n",
      "❌ Not wearing a formal shirt\n",
      "\n",
      "0: 320x416 1 id_card, 90.1ms\n",
      "Speed: 1.3ms preprocess, 90.1ms inference, 0.0ms postprocess per image at shape (1, 3, 320, 416)\n",
      "❌ Not wearing a formal shirt\n",
      "\n",
      "0: 320x416 1 id_card, 118.8ms\n",
      "Speed: 0.0ms preprocess, 118.8ms inference, 0.0ms postprocess per image at shape (1, 3, 320, 416)\n",
      "❌ Not wearing a formal shirt\n",
      "\n",
      "0: 320x416 1 id_card, 116.3ms\n",
      "Speed: 0.0ms preprocess, 116.3ms inference, 0.0ms postprocess per image at shape (1, 3, 320, 416)\n",
      "❌ Not wearing a formal shirt\n",
      "\n",
      "0: 320x416 1 id_card, 109.1ms\n",
      "Speed: 0.0ms preprocess, 109.1ms inference, 0.0ms postprocess per image at shape (1, 3, 320, 416)\n",
      "❌ Not wearing a formal shirt\n",
      "\n",
      "0: 320x416 1 id_card, 115.7ms\n",
      "Speed: 0.0ms preprocess, 115.7ms inference, 0.0ms postprocess per image at shape (1, 3, 320, 416)\n",
      "❌ Not wearing a formal shirt\n",
      "\n",
      "0: 320x416 1 id_card, 77.2ms\n",
      "Speed: 2.4ms preprocess, 77.2ms inference, 0.0ms postprocess per image at shape (1, 3, 320, 416)\n",
      "❌ Not wearing a formal shirt\n",
      "\n",
      "0: 320x416 1 id_card, 133.2ms\n",
      "Speed: 0.0ms preprocess, 133.2ms inference, 0.0ms postprocess per image at shape (1, 3, 320, 416)\n",
      "❌ Not wearing a formal shirt\n",
      "\n",
      "0: 320x416 1 id_card, 157.5ms\n",
      "Speed: 0.0ms preprocess, 157.5ms inference, 0.0ms postprocess per image at shape (1, 3, 320, 416)\n",
      "❌ Not wearing a formal shirt\n",
      "\n",
      "0: 320x416 1 id_card, 136.2ms\n",
      "Speed: 0.0ms preprocess, 136.2ms inference, 0.0ms postprocess per image at shape (1, 3, 320, 416)\n",
      "❌ Not wearing a formal shirt\n",
      "\n",
      "0: 320x416 1 id_card, 133.2ms\n",
      "Speed: 2.3ms preprocess, 133.2ms inference, 0.0ms postprocess per image at shape (1, 3, 320, 416)\n",
      "❌ Not wearing a formal shirt\n",
      "\n",
      "0: 320x416 1 id_card, 149.1ms\n",
      "Speed: 2.0ms preprocess, 149.1ms inference, 0.0ms postprocess per image at shape (1, 3, 320, 416)\n",
      "❌ Not wearing a formal shirt\n",
      "\n",
      "0: 320x416 1 id_card, 120.0ms\n",
      "Speed: 1.9ms preprocess, 120.0ms inference, 0.0ms postprocess per image at shape (1, 3, 320, 416)\n",
      "❌ Not wearing a formal shirt\n",
      "\n",
      "0: 320x416 1 id_card, 109.3ms\n",
      "Speed: 2.7ms preprocess, 109.3ms inference, 2.6ms postprocess per image at shape (1, 3, 320, 416)\n",
      "❌ Not wearing a formal shirt\n",
      "\n",
      "0: 320x416 1 id_card, 91.4ms\n",
      "Speed: 0.0ms preprocess, 91.4ms inference, 0.0ms postprocess per image at shape (1, 3, 320, 416)\n",
      "❌ Not wearing a formal shirt\n",
      "\n",
      "0: 320x416 1 id_card, 114.2ms\n",
      "Speed: 2.2ms preprocess, 114.2ms inference, 0.0ms postprocess per image at shape (1, 3, 320, 416)\n",
      "❌ Not wearing a formal shirt\n",
      "\n",
      "0: 320x416 1 id_card, 131.3ms\n",
      "Speed: 0.0ms preprocess, 131.3ms inference, 0.0ms postprocess per image at shape (1, 3, 320, 416)\n",
      "❌ Not wearing a formal shirt\n",
      "\n",
      "0: 320x416 1 id_card, 108.5ms\n",
      "Speed: 0.0ms preprocess, 108.5ms inference, 0.0ms postprocess per image at shape (1, 3, 320, 416)\n",
      "❌ Not wearing a formal shirt\n",
      "\n",
      "0: 320x416 1 id_card, 114.6ms\n",
      "Speed: 1.8ms preprocess, 114.6ms inference, 0.0ms postprocess per image at shape (1, 3, 320, 416)\n",
      "❌ Not wearing a formal shirt\n",
      "\n",
      "0: 320x416 1 id_card, 116.1ms\n",
      "Speed: 0.0ms preprocess, 116.1ms inference, 0.0ms postprocess per image at shape (1, 3, 320, 416)\n",
      "❌ Not wearing a formal shirt\n",
      "\n",
      "0: 320x416 1 id_card, 125.1ms\n",
      "Speed: 0.0ms preprocess, 125.1ms inference, 0.0ms postprocess per image at shape (1, 3, 320, 416)\n",
      "❌ Not wearing a formal shirt\n",
      "\n",
      "0: 320x416 1 id_card, 109.2ms\n",
      "Speed: 0.0ms preprocess, 109.2ms inference, 0.0ms postprocess per image at shape (1, 3, 320, 416)\n",
      "❌ Not wearing a formal shirt\n",
      "\n",
      "0: 320x416 1 id_card, 119.3ms\n",
      "Speed: 2.0ms preprocess, 119.3ms inference, 0.0ms postprocess per image at shape (1, 3, 320, 416)\n",
      "❌ Not wearing a formal shirt\n",
      "\n",
      "0: 320x416 1 id_card, 109.5ms\n",
      "Speed: 1.3ms preprocess, 109.5ms inference, 0.0ms postprocess per image at shape (1, 3, 320, 416)\n",
      "❌ Not wearing a formal shirt\n",
      "\n",
      "0: 320x416 1 id_card, 115.4ms\n",
      "Speed: 0.0ms preprocess, 115.4ms inference, 0.0ms postprocess per image at shape (1, 3, 320, 416)\n",
      "❌ Not wearing a formal shirt\n",
      "\n",
      "0: 320x416 1 id_card, 89.1ms\n",
      "Speed: 0.0ms preprocess, 89.1ms inference, 0.0ms postprocess per image at shape (1, 3, 320, 416)\n",
      "❌ Not wearing a formal shirt\n",
      "\n",
      "0: 320x416 1 id_card, 96.0ms\n",
      "Speed: 0.0ms preprocess, 96.0ms inference, 0.0ms postprocess per image at shape (1, 3, 320, 416)\n",
      "❌ Not wearing a formal shirt\n",
      "\n",
      "0: 320x416 1 id_card, 101.7ms\n",
      "Speed: 0.0ms preprocess, 101.7ms inference, 0.0ms postprocess per image at shape (1, 3, 320, 416)\n",
      "❌ Not wearing a formal shirt\n",
      "\n",
      "0: 320x416 1 id_card, 87.6ms\n",
      "Speed: 0.0ms preprocess, 87.6ms inference, 0.0ms postprocess per image at shape (1, 3, 320, 416)\n",
      "❌ Not wearing a formal shirt\n",
      "\n",
      "0: 320x416 1 id_card, 109.7ms\n",
      "Speed: 2.7ms preprocess, 109.7ms inference, 0.0ms postprocess per image at shape (1, 3, 320, 416)\n",
      "❌ Not wearing a formal shirt\n",
      "\n",
      "0: 320x416 1 id_card, 97.2ms\n",
      "Speed: 0.0ms preprocess, 97.2ms inference, 0.0ms postprocess per image at shape (1, 3, 320, 416)\n",
      "❌ Not wearing a formal shirt\n",
      "\n",
      "0: 320x416 1 id_card, 95.7ms\n",
      "Speed: 0.0ms preprocess, 95.7ms inference, 0.0ms postprocess per image at shape (1, 3, 320, 416)\n",
      "❌ Not wearing a formal shirt\n",
      "\n",
      "0: 320x416 1 id_card, 114.0ms\n",
      "Speed: 2.2ms preprocess, 114.0ms inference, 5.9ms postprocess per image at shape (1, 3, 320, 416)\n",
      "❌ Not wearing a formal shirt\n",
      "\n",
      "0: 320x416 1 id_card, 106.9ms\n",
      "Speed: 0.4ms preprocess, 106.9ms inference, 0.0ms postprocess per image at shape (1, 3, 320, 416)\n",
      "❌ Not wearing a formal shirt\n",
      "\n",
      "0: 320x416 1 id_card, 87.9ms\n",
      "Speed: 0.0ms preprocess, 87.9ms inference, 0.0ms postprocess per image at shape (1, 3, 320, 416)\n",
      "❌ Not wearing a formal shirt\n",
      "\n",
      "0: 320x416 1 id_card, 67.4ms\n",
      "Speed: 0.0ms preprocess, 67.4ms inference, 5.6ms postprocess per image at shape (1, 3, 320, 416)\n",
      "❌ Not wearing a formal shirt\n",
      "\n",
      "0: 320x416 1 id_card, 82.4ms\n",
      "Speed: 0.0ms preprocess, 82.4ms inference, 0.0ms postprocess per image at shape (1, 3, 320, 416)\n",
      "❌ Not wearing a formal shirt\n",
      "\n",
      "0: 320x416 1 id_card, 79.2ms\n",
      "Speed: 2.7ms preprocess, 79.2ms inference, 0.0ms postprocess per image at shape (1, 3, 320, 416)\n",
      "❌ Not wearing a formal shirt\n",
      "\n",
      "0: 320x416 1 id_card, 94.8ms\n",
      "Speed: 0.0ms preprocess, 94.8ms inference, 0.0ms postprocess per image at shape (1, 3, 320, 416)\n",
      "❌ Not wearing a formal shirt\n",
      "\n",
      "0: 320x416 1 id_card, 94.7ms\n",
      "Speed: 0.0ms preprocess, 94.7ms inference, 0.0ms postprocess per image at shape (1, 3, 320, 416)\n",
      "❌ Not wearing a formal shirt\n",
      "\n",
      "0: 320x416 1 id_card, 95.2ms\n",
      "Speed: 1.9ms preprocess, 95.2ms inference, 0.0ms postprocess per image at shape (1, 3, 320, 416)\n",
      "❌ Not wearing a formal shirt\n",
      "\n",
      "0: 320x416 1 id_card, 93.8ms\n",
      "Speed: 1.9ms preprocess, 93.8ms inference, 0.0ms postprocess per image at shape (1, 3, 320, 416)\n",
      "❌ Not wearing a formal shirt\n",
      "\n",
      "0: 320x416 1 id_card, 85.3ms\n",
      "Speed: 0.0ms preprocess, 85.3ms inference, 0.0ms postprocess per image at shape (1, 3, 320, 416)\n",
      "❌ Not wearing a formal shirt\n",
      "\n",
      "0: 320x416 1 id_card, 108.9ms\n",
      "Speed: 0.0ms preprocess, 108.9ms inference, 0.0ms postprocess per image at shape (1, 3, 320, 416)\n",
      "❌ Not wearing a formal shirt\n",
      "\n",
      "0: 320x416 1 id_card, 86.9ms\n",
      "Speed: 0.0ms preprocess, 86.9ms inference, 0.5ms postprocess per image at shape (1, 3, 320, 416)\n",
      "❌ Not wearing a formal shirt\n",
      "\n",
      "0: 320x416 1 id_card, 108.7ms\n",
      "Speed: 0.0ms preprocess, 108.7ms inference, 0.0ms postprocess per image at shape (1, 3, 320, 416)\n",
      "❌ Not wearing a formal shirt\n",
      "\n",
      "0: 320x416 1 id_card, 102.5ms\n",
      "Speed: 0.0ms preprocess, 102.5ms inference, 0.0ms postprocess per image at shape (1, 3, 320, 416)\n",
      "❌ Not wearing a formal shirt\n",
      "\n",
      "0: 320x416 1 id_card, 102.4ms\n",
      "Speed: 0.0ms preprocess, 102.4ms inference, 0.0ms postprocess per image at shape (1, 3, 320, 416)\n",
      "❌ Not wearing a formal shirt\n",
      "\n",
      "0: 320x416 1 id_card, 77.2ms\n",
      "Speed: 0.0ms preprocess, 77.2ms inference, 0.0ms postprocess per image at shape (1, 3, 320, 416)\n",
      "❌ Not wearing a formal shirt\n",
      "\n",
      "0: 320x416 1 id_card, 80.8ms\n",
      "Speed: 0.0ms preprocess, 80.8ms inference, 0.0ms postprocess per image at shape (1, 3, 320, 416)\n",
      "❌ Not wearing a formal shirt\n",
      "\n",
      "0: 320x416 1 id_card, 94.0ms\n",
      "Speed: 1.9ms preprocess, 94.0ms inference, 0.0ms postprocess per image at shape (1, 3, 320, 416)\n",
      "❌ Not wearing a formal shirt\n",
      "\n",
      "0: 320x416 1 id_card, 82.7ms\n",
      "Speed: 0.0ms preprocess, 82.7ms inference, 0.0ms postprocess per image at shape (1, 3, 320, 416)\n",
      "❌ Not wearing a formal shirt\n",
      "\n",
      "0: 320x416 1 id_card, 65.7ms\n",
      "Speed: 1.6ms preprocess, 65.7ms inference, 0.0ms postprocess per image at shape (1, 3, 320, 416)\n",
      "❌ Not wearing a formal shirt\n",
      "\n",
      "0: 320x416 1 id_card, 99.0ms\n",
      "Speed: 1.9ms preprocess, 99.0ms inference, 0.7ms postprocess per image at shape (1, 3, 320, 416)\n",
      "❌ Not wearing a formal shirt\n",
      "\n",
      "0: 320x416 1 id_card, 80.6ms\n",
      "Speed: 0.0ms preprocess, 80.6ms inference, 0.0ms postprocess per image at shape (1, 3, 320, 416)\n",
      "❌ Not wearing a formal shirt\n",
      "\n",
      "0: 320x416 1 id_card, 105.2ms\n",
      "Speed: 2.0ms preprocess, 105.2ms inference, 0.3ms postprocess per image at shape (1, 3, 320, 416)\n",
      "❌ Not wearing a formal shirt\n",
      "\n",
      "0: 320x416 1 id_card, 92.7ms\n",
      "Speed: 0.5ms preprocess, 92.7ms inference, 0.0ms postprocess per image at shape (1, 3, 320, 416)\n",
      "❌ Not wearing a formal shirt\n",
      "\n",
      "0: 320x416 1 id_card, 77.6ms\n",
      "Speed: 0.0ms preprocess, 77.6ms inference, 0.0ms postprocess per image at shape (1, 3, 320, 416)\n",
      "❌ Not wearing a formal shirt\n",
      "\n",
      "0: 320x416 1 id_card, 84.0ms\n",
      "Speed: 0.0ms preprocess, 84.0ms inference, 0.0ms postprocess per image at shape (1, 3, 320, 416)\n",
      "❌ Not wearing a formal shirt\n",
      "\n",
      "0: 320x416 1 id_card, 99.6ms\n",
      "Speed: 1.9ms preprocess, 99.6ms inference, 0.0ms postprocess per image at shape (1, 3, 320, 416)\n",
      "❌ Not wearing a formal shirt\n",
      "\n",
      "0: 320x416 1 id_card, 92.8ms\n",
      "Speed: 0.0ms preprocess, 92.8ms inference, 0.0ms postprocess per image at shape (1, 3, 320, 416)\n",
      "❌ Not wearing a formal shirt\n",
      "\n",
      "0: 320x416 1 id_card, 95.6ms\n",
      "Speed: 0.0ms preprocess, 95.6ms inference, 0.0ms postprocess per image at shape (1, 3, 320, 416)\n",
      "❌ Not wearing a formal shirt\n",
      "\n",
      "0: 320x416 1 id_card, 81.5ms\n",
      "Speed: 0.0ms preprocess, 81.5ms inference, 0.0ms postprocess per image at shape (1, 3, 320, 416)\n",
      "❌ Not wearing a formal shirt\n",
      "\n",
      "0: 320x416 1 id_card, 94.3ms\n",
      "Speed: 2.1ms preprocess, 94.3ms inference, 0.0ms postprocess per image at shape (1, 3, 320, 416)\n",
      "❌ Not wearing a formal shirt\n",
      "\n",
      "0: 320x416 1 id_card, 93.2ms\n",
      "Speed: 1.7ms preprocess, 93.2ms inference, 0.0ms postprocess per image at shape (1, 3, 320, 416)\n",
      "❌ Not wearing a formal shirt\n",
      "\n",
      "0: 320x416 1 id_card, 84.9ms\n",
      "Speed: 0.0ms preprocess, 84.9ms inference, 0.0ms postprocess per image at shape (1, 3, 320, 416)\n",
      "❌ Not wearing a formal shirt\n",
      "\n",
      "0: 320x416 1 id_card, 87.3ms\n",
      "Speed: 0.0ms preprocess, 87.3ms inference, 0.0ms postprocess per image at shape (1, 3, 320, 416)\n",
      "❌ Not wearing a formal shirt\n",
      "\n",
      "0: 320x416 1 id_card, 93.4ms\n",
      "Speed: 1.9ms preprocess, 93.4ms inference, 0.0ms postprocess per image at shape (1, 3, 320, 416)\n",
      "❌ Not wearing a formal shirt\n",
      "\n",
      "0: 320x416 1 id_card, 87.6ms\n",
      "Speed: 0.0ms preprocess, 87.6ms inference, 0.4ms postprocess per image at shape (1, 3, 320, 416)\n",
      "❌ Not wearing a formal shirt\n",
      "\n",
      "0: 320x416 1 id_card, 86.6ms\n",
      "Speed: 2.2ms preprocess, 86.6ms inference, 0.0ms postprocess per image at shape (1, 3, 320, 416)\n",
      "❌ Not wearing a formal shirt\n",
      "\n",
      "0: 320x416 1 id_card, 88.1ms\n",
      "Speed: 0.0ms preprocess, 88.1ms inference, 0.0ms postprocess per image at shape (1, 3, 320, 416)\n",
      "❌ Not wearing a formal shirt\n",
      "\n",
      "0: 320x416 1 id_card, 108.7ms\n",
      "Speed: 0.0ms preprocess, 108.7ms inference, 0.0ms postprocess per image at shape (1, 3, 320, 416)\n",
      "❌ Not wearing a formal shirt\n",
      "\n",
      "0: 320x416 1 id_card, 88.3ms\n",
      "Speed: 0.0ms preprocess, 88.3ms inference, 0.0ms postprocess per image at shape (1, 3, 320, 416)\n",
      "❌ Not wearing a formal shirt\n",
      "\n",
      "0: 320x416 1 id_card, 100.6ms\n",
      "Speed: 0.0ms preprocess, 100.6ms inference, 0.0ms postprocess per image at shape (1, 3, 320, 416)\n",
      "❌ Not wearing a formal shirt\n",
      "\n",
      "0: 320x416 1 id_card, 108.9ms\n",
      "Speed: 0.0ms preprocess, 108.9ms inference, 0.0ms postprocess per image at shape (1, 3, 320, 416)\n",
      "❌ Not wearing a formal shirt\n",
      "\n",
      "0: 320x416 1 id_card, 73.9ms\n",
      "Speed: 0.0ms preprocess, 73.9ms inference, 0.0ms postprocess per image at shape (1, 3, 320, 416)\n",
      "❌ Not wearing a formal shirt\n",
      "\n",
      "0: 320x416 1 id_card, 127.7ms\n",
      "Speed: 1.5ms preprocess, 127.7ms inference, 0.0ms postprocess per image at shape (1, 3, 320, 416)\n",
      "❌ Not wearing a formal shirt\n",
      "\n",
      "0: 320x416 1 id_card, 113.8ms\n",
      "Speed: 0.0ms preprocess, 113.8ms inference, 0.0ms postprocess per image at shape (1, 3, 320, 416)\n",
      "❌ Not wearing a formal shirt\n",
      "\n",
      "0: 320x416 1 id_card, 74.6ms\n",
      "Speed: 0.0ms preprocess, 74.6ms inference, 0.0ms postprocess per image at shape (1, 3, 320, 416)\n",
      "❌ Not wearing a formal shirt\n",
      "\n",
      "0: 320x416 1 id_card, 96.6ms\n",
      "Speed: 0.0ms preprocess, 96.6ms inference, 0.0ms postprocess per image at shape (1, 3, 320, 416)\n",
      "❌ Not wearing a formal shirt\n",
      "\n",
      "0: 320x416 1 id_card, 87.8ms\n",
      "Speed: 0.0ms preprocess, 87.8ms inference, 0.0ms postprocess per image at shape (1, 3, 320, 416)\n",
      "❌ Not wearing a formal shirt\n",
      "\n",
      "0: 320x416 1 id_card, 71.0ms\n",
      "Speed: 0.0ms preprocess, 71.0ms inference, 0.0ms postprocess per image at shape (1, 3, 320, 416)\n",
      "❌ Not wearing a formal shirt\n",
      "\n",
      "0: 320x416 1 id_card, 87.9ms\n",
      "Speed: 0.0ms preprocess, 87.9ms inference, 0.0ms postprocess per image at shape (1, 3, 320, 416)\n",
      "❌ Not wearing a formal shirt\n",
      "\n",
      "0: 320x416 1 id_card, 94.9ms\n",
      "Speed: 0.0ms preprocess, 94.9ms inference, 0.0ms postprocess per image at shape (1, 3, 320, 416)\n",
      "❌ Not wearing a formal shirt\n",
      "\n",
      "0: 320x416 1 id_card, 100.7ms\n",
      "Speed: 2.3ms preprocess, 100.7ms inference, 0.0ms postprocess per image at shape (1, 3, 320, 416)\n",
      "❌ Not wearing a formal shirt\n",
      "\n",
      "0: 320x416 1 id_card, 70.3ms\n",
      "Speed: 0.0ms preprocess, 70.3ms inference, 0.0ms postprocess per image at shape (1, 3, 320, 416)\n",
      "❌ Not wearing a formal shirt\n",
      "\n",
      "0: 320x416 1 id_card, 81.9ms\n",
      "Speed: 0.0ms preprocess, 81.9ms inference, 0.0ms postprocess per image at shape (1, 3, 320, 416)\n",
      "❌ Not wearing a formal shirt\n",
      "\n",
      "0: 320x416 1 id_card, 76.2ms\n",
      "Speed: 2.2ms preprocess, 76.2ms inference, 0.0ms postprocess per image at shape (1, 3, 320, 416)\n",
      "❌ Not wearing a formal shirt\n",
      "\n",
      "0: 320x416 1 id_card, 109.0ms\n",
      "Speed: 0.0ms preprocess, 109.0ms inference, 2.3ms postprocess per image at shape (1, 3, 320, 416)\n",
      "❌ Not wearing a formal shirt\n",
      "\n",
      "0: 320x416 1 id_card, 103.5ms\n",
      "Speed: 0.7ms preprocess, 103.5ms inference, 0.8ms postprocess per image at shape (1, 3, 320, 416)\n",
      "❌ Not wearing a formal shirt\n",
      "\n",
      "0: 320x416 1 id_card, 94.7ms\n",
      "Speed: 0.0ms preprocess, 94.7ms inference, 6.5ms postprocess per image at shape (1, 3, 320, 416)\n",
      "❌ Not wearing a formal shirt\n",
      "\n",
      "0: 320x416 1 id_card, 81.6ms\n",
      "Speed: 0.0ms preprocess, 81.6ms inference, 0.0ms postprocess per image at shape (1, 3, 320, 416)\n",
      "❌ Not wearing a formal shirt\n",
      "\n",
      "0: 320x416 1 id_card, 101.5ms\n",
      "Speed: 0.0ms preprocess, 101.5ms inference, 6.9ms postprocess per image at shape (1, 3, 320, 416)\n",
      "❌ Not wearing a formal shirt\n",
      "\n",
      "0: 320x416 1 id_card, 86.4ms\n",
      "Speed: 0.0ms preprocess, 86.4ms inference, 0.0ms postprocess per image at shape (1, 3, 320, 416)\n",
      "❌ Not wearing a formal shirt\n",
      "\n",
      "0: 320x416 1 id_card, 112.6ms\n",
      "Speed: 1.9ms preprocess, 112.6ms inference, 0.0ms postprocess per image at shape (1, 3, 320, 416)\n",
      "❌ Not wearing a formal shirt\n",
      "\n",
      "0: 320x416 1 id_card, 96.9ms\n",
      "Speed: 0.0ms preprocess, 96.9ms inference, 0.0ms postprocess per image at shape (1, 3, 320, 416)\n",
      "❌ Not wearing a formal shirt\n",
      "\n",
      "0: 320x416 1 id_card, 103.0ms\n",
      "Speed: 0.0ms preprocess, 103.0ms inference, 0.0ms postprocess per image at shape (1, 3, 320, 416)\n",
      "❌ Not wearing a formal shirt\n",
      "\n",
      "0: 320x416 1 id_card, 85.2ms\n",
      "Speed: 2.2ms preprocess, 85.2ms inference, 0.0ms postprocess per image at shape (1, 3, 320, 416)\n",
      "❌ Not wearing a formal shirt\n",
      "\n",
      "0: 320x416 1 id_card, 69.6ms\n",
      "Speed: 0.0ms preprocess, 69.6ms inference, 0.0ms postprocess per image at shape (1, 3, 320, 416)\n",
      "❌ Not wearing a formal shirt\n",
      "\n",
      "0: 320x416 1 id_card, 88.0ms\n",
      "Speed: 0.0ms preprocess, 88.0ms inference, 0.0ms postprocess per image at shape (1, 3, 320, 416)\n",
      "❌ Not wearing a formal shirt\n",
      "\n",
      "0: 320x416 1 id_card, 67.6ms\n",
      "Speed: 0.0ms preprocess, 67.6ms inference, 0.0ms postprocess per image at shape (1, 3, 320, 416)\n",
      "❌ Not wearing a formal shirt\n",
      "\n",
      "0: 320x416 1 id_card, 94.0ms\n",
      "Speed: 0.0ms preprocess, 94.0ms inference, 1.1ms postprocess per image at shape (1, 3, 320, 416)\n",
      "❌ Not wearing a formal shirt\n",
      "\n",
      "0: 320x416 1 id_card, 67.5ms\n",
      "Speed: 0.0ms preprocess, 67.5ms inference, 0.0ms postprocess per image at shape (1, 3, 320, 416)\n",
      "❌ Not wearing a formal shirt\n",
      "\n",
      "0: 320x416 1 id_card, 92.2ms\n",
      "Speed: 1.9ms preprocess, 92.2ms inference, 0.0ms postprocess per image at shape (1, 3, 320, 416)\n",
      "❌ Not wearing a formal shirt\n",
      "\n",
      "0: 320x416 1 id_card, 92.3ms\n",
      "Speed: 0.0ms preprocess, 92.3ms inference, 0.0ms postprocess per image at shape (1, 3, 320, 416)\n",
      "❌ Not wearing a formal shirt\n",
      "\n",
      "0: 320x416 1 id_card, 109.4ms\n",
      "Speed: 0.0ms preprocess, 109.4ms inference, 0.0ms postprocess per image at shape (1, 3, 320, 416)\n",
      "❌ Not wearing a formal shirt\n",
      "\n",
      "0: 320x416 1 id_card, 94.8ms\n",
      "Speed: 0.0ms preprocess, 94.8ms inference, 0.0ms postprocess per image at shape (1, 3, 320, 416)\n",
      "❌ Not wearing a formal shirt\n",
      "\n",
      "0: 320x416 1 id_card, 88.6ms\n",
      "Speed: 0.0ms preprocess, 88.6ms inference, 1.1ms postprocess per image at shape (1, 3, 320, 416)\n",
      "❌ Not wearing a formal shirt\n",
      "\n",
      "0: 320x416 1 id_card, 82.2ms\n",
      "Speed: 0.0ms preprocess, 82.2ms inference, 0.0ms postprocess per image at shape (1, 3, 320, 416)\n",
      "❌ Not wearing a formal shirt\n",
      "\n",
      "0: 320x416 1 id_card, 155.4ms\n",
      "Speed: 3.0ms preprocess, 155.4ms inference, 0.0ms postprocess per image at shape (1, 3, 320, 416)\n",
      "❌ Not wearing a formal shirt\n",
      "\n",
      "0: 320x416 1 id_card, 183.3ms\n",
      "Speed: 0.0ms preprocess, 183.3ms inference, 1.4ms postprocess per image at shape (1, 3, 320, 416)\n",
      "❌ Not wearing a formal shirt\n",
      "\n",
      "0: 320x416 1 id_card, 101.0ms\n",
      "Speed: 0.0ms preprocess, 101.0ms inference, 2.1ms postprocess per image at shape (1, 3, 320, 416)\n",
      "❌ Not wearing a formal shirt\n",
      "\n",
      "0: 320x416 1 id_card, 137.8ms\n",
      "Speed: 0.0ms preprocess, 137.8ms inference, 5.7ms postprocess per image at shape (1, 3, 320, 416)\n",
      "❌ Not wearing a formal shirt\n",
      "\n",
      "0: 320x416 1 id_card, 172.8ms\n",
      "Speed: 0.0ms preprocess, 172.8ms inference, 0.0ms postprocess per image at shape (1, 3, 320, 416)\n",
      "❌ Not wearing a formal shirt\n",
      "\n",
      "0: 320x416 1 id_card, 152.7ms\n",
      "Speed: 0.0ms preprocess, 152.7ms inference, 0.0ms postprocess per image at shape (1, 3, 320, 416)\n",
      "❌ Not wearing a formal shirt\n",
      "\n",
      "0: 320x416 1 id_card, 109.2ms\n",
      "Speed: 0.0ms preprocess, 109.2ms inference, 0.0ms postprocess per image at shape (1, 3, 320, 416)\n",
      "❌ Not wearing a formal shirt\n",
      "\n",
      "0: 320x416 1 id_card, 122.4ms\n",
      "Speed: 2.4ms preprocess, 122.4ms inference, 0.0ms postprocess per image at shape (1, 3, 320, 416)\n",
      "❌ Not wearing a formal shirt\n",
      "\n",
      "0: 320x416 1 id_card, 146.4ms\n",
      "Speed: 0.0ms preprocess, 146.4ms inference, 0.0ms postprocess per image at shape (1, 3, 320, 416)\n",
      "❌ Not wearing a formal shirt\n",
      "\n",
      "0: 320x416 1 id_card, 136.5ms\n",
      "Speed: 0.0ms preprocess, 136.5ms inference, 0.0ms postprocess per image at shape (1, 3, 320, 416)\n",
      "❌ Not wearing a formal shirt\n",
      "\n",
      "0: 320x416 1 id_card, 97.4ms\n",
      "Speed: 1.9ms preprocess, 97.4ms inference, 0.0ms postprocess per image at shape (1, 3, 320, 416)\n",
      "❌ Not wearing a formal shirt\n",
      "\n",
      "0: 320x416 1 id_card, 96.0ms\n",
      "Speed: 0.0ms preprocess, 96.0ms inference, 0.0ms postprocess per image at shape (1, 3, 320, 416)\n",
      "❌ Not wearing a formal shirt\n",
      "\n",
      "0: 320x416 1 id_card, 104.1ms\n",
      "Speed: 2.3ms preprocess, 104.1ms inference, 0.0ms postprocess per image at shape (1, 3, 320, 416)\n",
      "❌ Not wearing a formal shirt\n",
      "\n",
      "0: 320x416 1 id_card, 107.9ms\n",
      "Speed: 0.0ms preprocess, 107.9ms inference, 0.0ms postprocess per image at shape (1, 3, 320, 416)\n",
      "❌ Not wearing a formal shirt\n",
      "\n",
      "0: 320x416 1 id_card, 82.5ms\n",
      "Speed: 0.0ms preprocess, 82.5ms inference, 0.0ms postprocess per image at shape (1, 3, 320, 416)\n",
      "❌ Not wearing a formal shirt\n",
      "\n",
      "0: 320x416 1 id_card, 74.9ms\n",
      "Speed: 1.7ms preprocess, 74.9ms inference, 0.0ms postprocess per image at shape (1, 3, 320, 416)\n",
      "❌ Not wearing a formal shirt\n",
      "\n",
      "0: 320x416 1 id_card, 72.9ms\n",
      "Speed: 0.0ms preprocess, 72.9ms inference, 0.0ms postprocess per image at shape (1, 3, 320, 416)\n",
      "❌ Not wearing a formal shirt\n",
      "\n",
      "0: 320x416 1 id_card, 72.0ms\n",
      "Speed: 2.2ms preprocess, 72.0ms inference, 0.0ms postprocess per image at shape (1, 3, 320, 416)\n",
      "❌ Not wearing a formal shirt\n",
      "\n",
      "0: 320x416 1 id_card, 69.7ms\n",
      "Speed: 0.0ms preprocess, 69.7ms inference, 0.0ms postprocess per image at shape (1, 3, 320, 416)\n",
      "❌ Not wearing a formal shirt\n",
      "\n",
      "0: 320x416 1 id_card, 69.3ms\n",
      "Speed: 0.0ms preprocess, 69.3ms inference, 0.0ms postprocess per image at shape (1, 3, 320, 416)\n",
      "❌ Not wearing a formal shirt\n",
      "\n",
      "0: 320x416 1 id_card, 78.8ms\n",
      "Speed: 0.0ms preprocess, 78.8ms inference, 0.0ms postprocess per image at shape (1, 3, 320, 416)\n",
      "❌ Not wearing a formal shirt\n",
      "\n",
      "0: 320x416 1 id_card, 80.2ms\n",
      "Speed: 0.5ms preprocess, 80.2ms inference, 0.0ms postprocess per image at shape (1, 3, 320, 416)\n",
      "❌ Not wearing a formal shirt\n",
      "\n",
      "0: 320x416 1 id_card, 74.2ms\n",
      "Speed: 1.8ms preprocess, 74.2ms inference, 0.0ms postprocess per image at shape (1, 3, 320, 416)\n",
      "❌ Not wearing a formal shirt\n",
      "\n",
      "0: 320x416 1 id_card, 73.4ms\n",
      "Speed: 0.0ms preprocess, 73.4ms inference, 0.0ms postprocess per image at shape (1, 3, 320, 416)\n",
      "❌ Not wearing a formal shirt\n",
      "\n",
      "0: 320x416 1 id_card, 85.6ms\n",
      "Speed: 0.0ms preprocess, 85.6ms inference, 0.0ms postprocess per image at shape (1, 3, 320, 416)\n",
      "❌ Not wearing a formal shirt\n",
      "\n",
      "0: 320x416 1 id_card, 94.8ms\n",
      "Speed: 0.0ms preprocess, 94.8ms inference, 0.0ms postprocess per image at shape (1, 3, 320, 416)\n",
      "❌ Not wearing a formal shirt\n",
      "\n",
      "0: 320x416 1 id_card, 79.0ms\n",
      "Speed: 2.5ms preprocess, 79.0ms inference, 6.6ms postprocess per image at shape (1, 3, 320, 416)\n",
      "❌ Not wearing a formal shirt\n",
      "\n",
      "0: 320x416 1 id_card, 93.4ms\n",
      "Speed: 2.0ms preprocess, 93.4ms inference, 0.0ms postprocess per image at shape (1, 3, 320, 416)\n",
      "❌ Not wearing a formal shirt\n",
      "\n",
      "0: 320x416 1 id_card, 82.3ms\n",
      "Speed: 0.0ms preprocess, 82.3ms inference, 1.8ms postprocess per image at shape (1, 3, 320, 416)\n",
      "❌ Not wearing a formal shirt\n",
      "\n",
      "0: 320x416 1 id_card, 74.5ms\n",
      "Speed: 0.0ms preprocess, 74.5ms inference, 0.0ms postprocess per image at shape (1, 3, 320, 416)\n",
      "❌ Not wearing a formal shirt\n",
      "\n",
      "0: 320x416 1 id_card, 86.8ms\n",
      "Speed: 0.0ms preprocess, 86.8ms inference, 0.0ms postprocess per image at shape (1, 3, 320, 416)\n",
      "❌ Not wearing a formal shirt\n",
      "\n",
      "0: 320x416 1 id_card, 101.9ms\n",
      "Speed: 1.9ms preprocess, 101.9ms inference, 0.0ms postprocess per image at shape (1, 3, 320, 416)\n",
      "❌ Not wearing a formal shirt\n",
      "\n",
      "0: 320x416 1 id_card, 71.6ms\n",
      "Speed: 0.0ms preprocess, 71.6ms inference, 0.0ms postprocess per image at shape (1, 3, 320, 416)\n",
      "❌ Not wearing a formal shirt\n",
      "\n",
      "0: 320x416 1 id_card, 95.8ms\n",
      "Speed: 0.0ms preprocess, 95.8ms inference, 0.0ms postprocess per image at shape (1, 3, 320, 416)\n",
      "❌ Not wearing a formal shirt\n",
      "\n",
      "0: 320x416 1 id_card, 86.0ms\n",
      "Speed: 0.0ms preprocess, 86.0ms inference, 0.0ms postprocess per image at shape (1, 3, 320, 416)\n",
      "❌ Not wearing a formal shirt\n",
      "\n",
      "0: 320x416 1 id_card, 87.5ms\n",
      "Speed: 2.0ms preprocess, 87.5ms inference, 0.0ms postprocess per image at shape (1, 3, 320, 416)\n",
      "❌ Not wearing a formal shirt\n",
      "\n",
      "0: 320x416 1 id_card, 90.8ms\n",
      "Speed: 1.4ms preprocess, 90.8ms inference, 2.0ms postprocess per image at shape (1, 3, 320, 416)\n",
      "❌ Not wearing a formal shirt\n",
      "\n",
      "0: 320x416 1 id_card, 87.7ms\n",
      "Speed: 2.2ms preprocess, 87.7ms inference, 1.2ms postprocess per image at shape (1, 3, 320, 416)\n",
      "❌ Not wearing a formal shirt\n",
      "\n",
      "0: 320x416 1 id_card, 86.7ms\n",
      "Speed: 0.0ms preprocess, 86.7ms inference, 0.0ms postprocess per image at shape (1, 3, 320, 416)\n",
      "❌ Not wearing a formal shirt\n",
      "\n",
      "0: 320x416 1 id_card, 87.7ms\n",
      "Speed: 2.5ms preprocess, 87.7ms inference, 0.0ms postprocess per image at shape (1, 3, 320, 416)\n",
      "❌ Not wearing a formal shirt\n",
      "\n",
      "0: 320x416 1 id_card, 87.2ms\n",
      "Speed: 1.4ms preprocess, 87.2ms inference, 0.6ms postprocess per image at shape (1, 3, 320, 416)\n",
      "❌ Not wearing a formal shirt\n",
      "\n",
      "0: 320x416 1 id_card, 97.2ms\n",
      "Speed: 2.4ms preprocess, 97.2ms inference, 0.0ms postprocess per image at shape (1, 3, 320, 416)\n",
      "❌ Not wearing a formal shirt\n",
      "\n",
      "0: 320x416 1 id_card, 110.5ms\n",
      "Speed: 0.0ms preprocess, 110.5ms inference, 0.0ms postprocess per image at shape (1, 3, 320, 416)\n",
      "❌ Not wearing a formal shirt\n",
      "\n",
      "0: 320x416 1 id_card, 87.1ms\n",
      "Speed: 0.0ms preprocess, 87.1ms inference, 0.0ms postprocess per image at shape (1, 3, 320, 416)\n",
      "❌ Not wearing a formal shirt\n",
      "\n",
      "0: 320x416 1 id_card, 81.3ms\n",
      "Speed: 0.0ms preprocess, 81.3ms inference, 0.0ms postprocess per image at shape (1, 3, 320, 416)\n",
      "❌ Not wearing a formal shirt\n",
      "\n",
      "0: 320x416 1 id_card, 81.0ms\n",
      "Speed: 0.0ms preprocess, 81.0ms inference, 0.0ms postprocess per image at shape (1, 3, 320, 416)\n",
      "❌ Not wearing a formal shirt\n",
      "\n",
      "0: 320x416 1 id_card, 80.7ms\n",
      "Speed: 0.0ms preprocess, 80.7ms inference, 0.0ms postprocess per image at shape (1, 3, 320, 416)\n",
      "❌ Not wearing a formal shirt\n",
      "\n",
      "0: 320x416 1 id_card, 81.4ms\n",
      "Speed: 0.0ms preprocess, 81.4ms inference, 0.0ms postprocess per image at shape (1, 3, 320, 416)\n",
      "❌ Not wearing a formal shirt\n",
      "\n",
      "0: 320x416 1 id_card, 76.9ms\n",
      "Speed: 1.7ms preprocess, 76.9ms inference, 0.0ms postprocess per image at shape (1, 3, 320, 416)\n",
      "❌ Not wearing a formal shirt\n",
      "\n",
      "0: 320x416 1 id_card, 87.6ms\n",
      "Speed: 0.0ms preprocess, 87.6ms inference, 0.0ms postprocess per image at shape (1, 3, 320, 416)\n",
      "❌ Not wearing a formal shirt\n",
      "\n",
      "0: 320x416 1 id_card, 94.5ms\n",
      "Speed: 0.0ms preprocess, 94.5ms inference, 0.0ms postprocess per image at shape (1, 3, 320, 416)\n",
      "❌ Not wearing a formal shirt\n",
      "\n",
      "0: 320x416 1 id_card, 103.6ms\n",
      "Speed: 0.0ms preprocess, 103.6ms inference, 4.8ms postprocess per image at shape (1, 3, 320, 416)\n",
      "❌ Not wearing a formal shirt\n",
      "\n",
      "0: 320x416 1 id_card, 96.7ms\n",
      "Speed: 0.0ms preprocess, 96.7ms inference, 0.0ms postprocess per image at shape (1, 3, 320, 416)\n",
      "❌ Not wearing a formal shirt\n",
      "\n",
      "0: 320x416 1 id_card, 76.8ms\n",
      "Speed: 0.3ms preprocess, 76.8ms inference, 0.0ms postprocess per image at shape (1, 3, 320, 416)\n",
      "❌ Not wearing a formal shirt\n",
      "\n",
      "0: 320x416 1 id_card, 76.9ms\n",
      "Speed: 2.8ms preprocess, 76.9ms inference, 0.0ms postprocess per image at shape (1, 3, 320, 416)\n",
      "❌ Not wearing a formal shirt\n",
      "\n",
      "0: 320x416 1 id_card, 79.7ms\n",
      "Speed: 0.0ms preprocess, 79.7ms inference, 0.0ms postprocess per image at shape (1, 3, 320, 416)\n",
      "❌ Not wearing a formal shirt\n",
      "\n",
      "0: 320x416 1 id_card, 77.1ms\n",
      "Speed: 1.9ms preprocess, 77.1ms inference, 4.2ms postprocess per image at shape (1, 3, 320, 416)\n",
      "❌ Not wearing a formal shirt\n",
      "\n",
      "0: 320x416 1 id_card, 83.4ms\n",
      "Speed: 0.0ms preprocess, 83.4ms inference, 0.0ms postprocess per image at shape (1, 3, 320, 416)\n",
      "❌ Not wearing a formal shirt\n",
      "\n",
      "0: 320x416 1 id_card, 147.5ms\n",
      "Speed: 0.0ms preprocess, 147.5ms inference, 0.0ms postprocess per image at shape (1, 3, 320, 416)\n",
      "❌ Not wearing a formal shirt\n",
      "\n",
      "0: 320x416 1 id_card, 179.3ms\n",
      "Speed: 3.4ms preprocess, 179.3ms inference, 0.0ms postprocess per image at shape (1, 3, 320, 416)\n",
      "❌ Not wearing a formal shirt\n",
      "\n",
      "0: 320x416 1 id_card, 250.6ms\n",
      "Speed: 5.1ms preprocess, 250.6ms inference, 0.0ms postprocess per image at shape (1, 3, 320, 416)\n",
      "❌ Not wearing a formal shirt\n",
      "\n",
      "0: 320x416 1 id_card, 252.9ms\n",
      "Speed: 2.2ms preprocess, 252.9ms inference, 0.0ms postprocess per image at shape (1, 3, 320, 416)\n",
      "❌ Not wearing a formal shirt\n",
      "\n",
      "0: 320x416 1 id_card, 217.2ms\n",
      "Speed: 0.0ms preprocess, 217.2ms inference, 0.0ms postprocess per image at shape (1, 3, 320, 416)\n",
      "❌ Not wearing a formal shirt\n",
      "\n",
      "0: 320x416 1 id_card, 207.8ms\n",
      "Speed: 0.0ms preprocess, 207.8ms inference, 0.0ms postprocess per image at shape (1, 3, 320, 416)\n",
      "❌ Not wearing a formal shirt\n",
      "\n",
      "0: 320x416 1 id_card, 156.2ms\n",
      "Speed: 0.0ms preprocess, 156.2ms inference, 5.9ms postprocess per image at shape (1, 3, 320, 416)\n",
      "❌ Not wearing a formal shirt\n",
      "\n",
      "0: 320x416 1 id_card, 104.2ms\n",
      "Speed: 0.0ms preprocess, 104.2ms inference, 0.0ms postprocess per image at shape (1, 3, 320, 416)\n",
      "❌ Not wearing a formal shirt\n",
      "\n",
      "0: 320x416 1 id_card, 84.9ms\n",
      "Speed: 6.6ms preprocess, 84.9ms inference, 4.4ms postprocess per image at shape (1, 3, 320, 416)\n",
      "❌ Not wearing a formal shirt\n",
      "\n",
      "0: 320x416 1 id_card, 88.9ms\n",
      "Speed: 0.0ms preprocess, 88.9ms inference, 0.0ms postprocess per image at shape (1, 3, 320, 416)\n",
      "❌ Not wearing a formal shirt\n",
      "\n",
      "0: 320x416 1 id_card, 103.9ms\n",
      "Speed: 0.0ms preprocess, 103.9ms inference, 0.0ms postprocess per image at shape (1, 3, 320, 416)\n",
      "❌ Not wearing a formal shirt\n",
      "\n",
      "0: 320x416 1 id_card, 120.8ms\n",
      "Speed: 1.8ms preprocess, 120.8ms inference, 0.0ms postprocess per image at shape (1, 3, 320, 416)\n",
      "❌ Not wearing a formal shirt\n",
      "\n",
      "0: 320x416 1 id_card, 180.0ms\n",
      "Speed: 3.1ms preprocess, 180.0ms inference, 0.0ms postprocess per image at shape (1, 3, 320, 416)\n",
      "❌ Not wearing a formal shirt\n",
      "\n",
      "0: 320x416 1 id_card, 182.3ms\n",
      "Speed: 3.6ms preprocess, 182.3ms inference, 1.1ms postprocess per image at shape (1, 3, 320, 416)\n",
      "❌ Not wearing a formal shirt\n",
      "\n",
      "0: 320x416 1 id_card, 187.4ms\n",
      "Speed: 4.1ms preprocess, 187.4ms inference, 0.0ms postprocess per image at shape (1, 3, 320, 416)\n",
      "❌ Not wearing a formal shirt\n",
      "\n",
      "0: 320x416 1 id_card, 161.1ms\n",
      "Speed: 2.0ms preprocess, 161.1ms inference, 0.0ms postprocess per image at shape (1, 3, 320, 416)\n",
      "❌ Not wearing a formal shirt\n",
      "\n",
      "0: 320x416 1 id_card, 182.7ms\n",
      "Speed: 3.9ms preprocess, 182.7ms inference, 0.0ms postprocess per image at shape (1, 3, 320, 416)\n",
      "❌ Not wearing a formal shirt\n",
      "\n",
      "0: 320x416 1 id_card, 169.0ms\n",
      "Speed: 0.0ms preprocess, 169.0ms inference, 2.8ms postprocess per image at shape (1, 3, 320, 416)\n",
      "❌ Not wearing a formal shirt\n",
      "\n",
      "0: 320x416 1 id_card, 164.9ms\n",
      "Speed: 0.0ms preprocess, 164.9ms inference, 0.0ms postprocess per image at shape (1, 3, 320, 416)\n",
      "❌ Not wearing a formal shirt\n",
      "\n",
      "0: 320x416 1 id_card, 160.2ms\n",
      "Speed: 3.6ms preprocess, 160.2ms inference, 0.0ms postprocess per image at shape (1, 3, 320, 416)\n",
      "❌ Not wearing a formal shirt\n",
      "\n",
      "0: 320x416 1 id_card, 173.1ms\n",
      "Speed: 4.6ms preprocess, 173.1ms inference, 0.4ms postprocess per image at shape (1, 3, 320, 416)\n",
      "❌ Not wearing a formal shirt\n",
      "\n",
      "0: 320x416 1 id_card, 165.5ms\n",
      "Speed: 5.0ms preprocess, 165.5ms inference, 0.0ms postprocess per image at shape (1, 3, 320, 416)\n",
      "❌ Not wearing a formal shirt\n",
      "\n",
      "0: 320x416 1 id_card, 149.8ms\n",
      "Speed: 0.0ms preprocess, 149.8ms inference, 0.0ms postprocess per image at shape (1, 3, 320, 416)\n",
      "❌ Not wearing a formal shirt\n",
      "\n",
      "0: 320x416 1 id_card, 107.7ms\n",
      "Speed: 0.0ms preprocess, 107.7ms inference, 0.0ms postprocess per image at shape (1, 3, 320, 416)\n",
      "❌ Not wearing a formal shirt\n",
      "\n",
      "0: 320x416 1 id_card, 108.1ms\n",
      "Speed: 1.8ms preprocess, 108.1ms inference, 0.0ms postprocess per image at shape (1, 3, 320, 416)\n",
      "❌ Not wearing a formal shirt\n",
      "\n",
      "0: 320x416 1 id_card, 116.4ms\n",
      "Speed: 0.0ms preprocess, 116.4ms inference, 0.0ms postprocess per image at shape (1, 3, 320, 416)\n",
      "❌ Not wearing a formal shirt\n",
      "\n",
      "0: 320x416 1 id_card, 98.6ms\n",
      "Speed: 1.8ms preprocess, 98.6ms inference, 0.0ms postprocess per image at shape (1, 3, 320, 416)\n",
      "❌ Not wearing a formal shirt\n",
      "\n",
      "0: 320x416 1 id_card, 87.8ms\n",
      "Speed: 0.0ms preprocess, 87.8ms inference, 7.1ms postprocess per image at shape (1, 3, 320, 416)\n",
      "❌ Not wearing a formal shirt\n",
      "\n",
      "0: 320x416 1 id_card, 74.8ms\n",
      "Speed: 0.0ms preprocess, 74.8ms inference, 0.0ms postprocess per image at shape (1, 3, 320, 416)\n",
      "❌ Not wearing a formal shirt\n",
      "\n",
      "0: 320x416 1 id_card, 75.5ms\n",
      "Speed: 0.0ms preprocess, 75.5ms inference, 0.0ms postprocess per image at shape (1, 3, 320, 416)\n",
      "❌ Not wearing a formal shirt\n",
      "\n",
      "0: 320x416 1 id_card, 75.5ms\n",
      "Speed: 0.0ms preprocess, 75.5ms inference, 5.2ms postprocess per image at shape (1, 3, 320, 416)\n",
      "❌ Not wearing a formal shirt\n",
      "\n",
      "0: 320x416 1 id_card, 81.0ms\n",
      "Speed: 0.0ms preprocess, 81.0ms inference, 0.0ms postprocess per image at shape (1, 3, 320, 416)\n",
      "❌ Not wearing a formal shirt\n",
      "\n",
      "0: 320x416 1 id_card, 65.1ms\n",
      "Speed: 1.8ms preprocess, 65.1ms inference, 6.6ms postprocess per image at shape (1, 3, 320, 416)\n",
      "❌ Not wearing a formal shirt\n",
      "\n",
      "0: 320x416 1 id_card, 65.3ms\n",
      "Speed: 1.8ms preprocess, 65.3ms inference, 0.0ms postprocess per image at shape (1, 3, 320, 416)\n",
      "❌ Not wearing a formal shirt\n",
      "\n",
      "0: 320x416 1 id_card, 68.5ms\n",
      "Speed: 1.4ms preprocess, 68.5ms inference, 2.0ms postprocess per image at shape (1, 3, 320, 416)\n",
      "❌ Not wearing a formal shirt\n",
      "\n",
      "0: 320x416 1 id_card, 68.4ms\n",
      "Speed: 0.0ms preprocess, 68.4ms inference, 0.0ms postprocess per image at shape (1, 3, 320, 416)\n",
      "❌ Not wearing a formal shirt\n",
      "\n",
      "0: 320x416 1 id_card, 67.1ms\n",
      "Speed: 0.0ms preprocess, 67.1ms inference, 1.8ms postprocess per image at shape (1, 3, 320, 416)\n",
      "❌ Not wearing a formal shirt\n",
      "\n",
      "0: 320x416 1 id_card, 66.9ms\n",
      "Speed: 1.8ms preprocess, 66.9ms inference, 0.0ms postprocess per image at shape (1, 3, 320, 416)\n",
      "❌ Not wearing a formal shirt\n",
      "\n",
      "0: 320x416 1 id_card, 61.8ms\n",
      "Speed: 2.0ms preprocess, 61.8ms inference, 0.0ms postprocess per image at shape (1, 3, 320, 416)\n",
      "❌ Not wearing a formal shirt\n",
      "\n",
      "0: 320x416 1 id_card, 54.4ms\n",
      "Speed: 0.0ms preprocess, 54.4ms inference, 0.0ms postprocess per image at shape (1, 3, 320, 416)\n",
      "❌ Not wearing a formal shirt\n",
      "\n",
      "0: 320x416 1 id_card, 59.0ms\n",
      "Speed: 1.7ms preprocess, 59.0ms inference, 0.0ms postprocess per image at shape (1, 3, 320, 416)\n",
      "❌ Not wearing a formal shirt\n",
      "\n",
      "0: 320x416 1 id_card, 61.4ms\n",
      "Speed: 0.0ms preprocess, 61.4ms inference, 0.0ms postprocess per image at shape (1, 3, 320, 416)\n",
      "❌ Not wearing a formal shirt\n",
      "\n",
      "0: 320x416 1 id_card, 62.0ms\n",
      "Speed: 0.0ms preprocess, 62.0ms inference, 5.1ms postprocess per image at shape (1, 3, 320, 416)\n",
      "❌ Not wearing a formal shirt\n",
      "\n",
      "0: 320x416 1 id_card, 58.5ms\n",
      "Speed: 2.3ms preprocess, 58.5ms inference, 0.0ms postprocess per image at shape (1, 3, 320, 416)\n",
      "❌ Not wearing a formal shirt\n",
      "\n",
      "0: 320x416 1 id_card, 58.4ms\n",
      "Speed: 0.0ms preprocess, 58.4ms inference, 0.0ms postprocess per image at shape (1, 3, 320, 416)\n",
      "❌ Not wearing a formal shirt\n",
      "\n",
      "0: 320x416 1 id_card, 60.4ms\n",
      "Speed: 0.0ms preprocess, 60.4ms inference, 0.0ms postprocess per image at shape (1, 3, 320, 416)\n",
      "❌ Not wearing a formal shirt\n",
      "\n",
      "0: 320x416 1 id_card, 58.4ms\n",
      "Speed: 0.0ms preprocess, 58.4ms inference, 0.0ms postprocess per image at shape (1, 3, 320, 416)\n",
      "❌ Not wearing a formal shirt\n",
      "\n",
      "0: 320x416 1 id_card, 60.1ms\n",
      "Speed: 0.0ms preprocess, 60.1ms inference, 0.0ms postprocess per image at shape (1, 3, 320, 416)\n",
      "❌ Not wearing a formal shirt\n",
      "\n",
      "0: 320x416 1 id_card, 51.9ms\n",
      "Speed: 1.3ms preprocess, 51.9ms inference, 7.0ms postprocess per image at shape (1, 3, 320, 416)\n",
      "❌ Not wearing a formal shirt\n",
      "\n",
      "0: 320x416 1 id_card, 57.5ms\n",
      "Speed: 0.0ms preprocess, 57.5ms inference, 0.0ms postprocess per image at shape (1, 3, 320, 416)\n",
      "❌ Not wearing a formal shirt\n",
      "\n",
      "0: 320x416 1 id_card, 53.2ms\n",
      "Speed: 0.0ms preprocess, 53.2ms inference, 0.0ms postprocess per image at shape (1, 3, 320, 416)\n",
      "❌ Not wearing a formal shirt\n",
      "\n",
      "0: 320x416 1 id_card, 58.7ms\n",
      "Speed: 0.0ms preprocess, 58.7ms inference, 0.0ms postprocess per image at shape (1, 3, 320, 416)\n",
      "❌ Not wearing a formal shirt\n",
      "\n",
      "0: 320x416 1 id_card, 53.1ms\n",
      "Speed: 0.0ms preprocess, 53.1ms inference, 0.0ms postprocess per image at shape (1, 3, 320, 416)\n",
      "❌ Not wearing a formal shirt\n",
      "\n",
      "0: 320x416 1 id_card, 59.4ms\n",
      "Speed: 1.8ms preprocess, 59.4ms inference, 0.0ms postprocess per image at shape (1, 3, 320, 416)\n",
      "❌ Not wearing a formal shirt\n",
      "\n",
      "0: 320x416 1 id_card, 59.6ms\n",
      "Speed: 0.0ms preprocess, 59.6ms inference, 0.0ms postprocess per image at shape (1, 3, 320, 416)\n",
      "❌ Not wearing a formal shirt\n",
      "\n",
      "0: 320x416 1 id_card, 66.0ms\n",
      "Speed: 0.0ms preprocess, 66.0ms inference, 0.0ms postprocess per image at shape (1, 3, 320, 416)\n",
      "❌ Not wearing a formal shirt\n",
      "\n",
      "0: 320x416 1 id_card, 68.5ms\n",
      "Speed: 0.0ms preprocess, 68.5ms inference, 0.0ms postprocess per image at shape (1, 3, 320, 416)\n",
      "❌ Not wearing a formal shirt\n",
      "\n",
      "0: 320x416 1 id_card, 67.2ms\n",
      "Speed: 0.0ms preprocess, 67.2ms inference, 1.0ms postprocess per image at shape (1, 3, 320, 416)\n",
      "❌ Not wearing a formal shirt\n",
      "\n",
      "0: 320x416 1 id_card, 60.5ms\n",
      "Speed: 0.0ms preprocess, 60.5ms inference, 0.0ms postprocess per image at shape (1, 3, 320, 416)\n",
      "❌ Not wearing a formal shirt\n",
      "\n",
      "0: 320x416 1 id_card, 58.3ms\n",
      "Speed: 0.0ms preprocess, 58.3ms inference, 0.0ms postprocess per image at shape (1, 3, 320, 416)\n",
      "❌ Not wearing a formal shirt\n",
      "\n",
      "0: 320x416 1 id_card, 60.1ms\n",
      "Speed: 0.0ms preprocess, 60.1ms inference, 0.0ms postprocess per image at shape (1, 3, 320, 416)\n",
      "❌ Not wearing a formal shirt\n",
      "\n",
      "0: 320x416 1 id_card, 56.9ms\n",
      "Speed: 1.9ms preprocess, 56.9ms inference, 0.0ms postprocess per image at shape (1, 3, 320, 416)\n",
      "❌ Not wearing a formal shirt\n",
      "\n",
      "0: 320x416 1 id_card, 61.0ms\n",
      "Speed: 0.0ms preprocess, 61.0ms inference, 0.0ms postprocess per image at shape (1, 3, 320, 416)\n",
      "❌ Not wearing a formal shirt\n",
      "\n",
      "0: 320x416 1 id_card, 54.6ms\n",
      "Speed: 0.0ms preprocess, 54.6ms inference, 4.4ms postprocess per image at shape (1, 3, 320, 416)\n",
      "❌ Not wearing a formal shirt\n",
      "\n",
      "0: 320x416 1 id_card, 67.9ms\n",
      "Speed: 0.0ms preprocess, 67.9ms inference, 0.0ms postprocess per image at shape (1, 3, 320, 416)\n",
      "❌ Not wearing a formal shirt\n",
      "\n",
      "0: 320x416 1 id_card, 55.3ms\n",
      "Speed: 0.0ms preprocess, 55.3ms inference, 0.0ms postprocess per image at shape (1, 3, 320, 416)\n",
      "❌ Not wearing a formal shirt\n",
      "\n",
      "0: 320x416 1 id_card, 53.8ms\n",
      "Speed: 0.0ms preprocess, 53.8ms inference, 6.5ms postprocess per image at shape (1, 3, 320, 416)\n",
      "❌ Not wearing a formal shirt\n",
      "\n",
      "0: 320x416 1 id_card, 60.0ms\n",
      "Speed: 0.0ms preprocess, 60.0ms inference, 0.0ms postprocess per image at shape (1, 3, 320, 416)\n",
      "❌ Not wearing a formal shirt\n",
      "\n",
      "0: 320x416 1 id_card, 60.2ms\n",
      "Speed: 0.0ms preprocess, 60.2ms inference, 0.0ms postprocess per image at shape (1, 3, 320, 416)\n",
      "❌ Not wearing a formal shirt\n",
      "\n",
      "0: 320x416 1 id_card, 62.5ms\n",
      "Speed: 1.5ms preprocess, 62.5ms inference, 0.0ms postprocess per image at shape (1, 3, 320, 416)\n",
      "❌ Not wearing a formal shirt\n",
      "\n",
      "0: 320x416 1 id_card, 61.7ms\n",
      "Speed: 0.0ms preprocess, 61.7ms inference, 5.1ms postprocess per image at shape (1, 3, 320, 416)\n",
      "❌ Not wearing a formal shirt\n",
      "\n",
      "0: 320x416 1 id_card, 83.8ms\n",
      "Speed: 0.0ms preprocess, 83.8ms inference, 0.0ms postprocess per image at shape (1, 3, 320, 416)\n",
      "❌ Not wearing a formal shirt\n",
      "\n",
      "0: 320x416 1 id_card, 86.1ms\n",
      "Speed: 2.0ms preprocess, 86.1ms inference, 0.0ms postprocess per image at shape (1, 3, 320, 416)\n",
      "❌ Not wearing a formal shirt\n",
      "\n",
      "0: 320x416 1 id_card, 72.7ms\n",
      "Speed: 0.0ms preprocess, 72.7ms inference, 6.6ms postprocess per image at shape (1, 3, 320, 416)\n",
      "❌ Not wearing a formal shirt\n",
      "\n",
      "0: 320x416 1 id_card, 74.5ms\n",
      "Speed: 0.0ms preprocess, 74.5ms inference, 1.1ms postprocess per image at shape (1, 3, 320, 416)\n",
      "❌ Not wearing a formal shirt\n",
      "\n",
      "0: 320x416 1 id_card, 74.7ms\n",
      "Speed: 0.0ms preprocess, 74.7ms inference, 0.0ms postprocess per image at shape (1, 3, 320, 416)\n",
      "❌ Not wearing a formal shirt\n",
      "\n",
      "0: 320x416 1 id_card, 103.1ms\n",
      "Speed: 0.0ms preprocess, 103.1ms inference, 1.0ms postprocess per image at shape (1, 3, 320, 416)\n",
      "❌ Not wearing a formal shirt\n",
      "\n",
      "0: 320x416 1 id_card, 85.8ms\n",
      "Speed: 0.0ms preprocess, 85.8ms inference, 0.0ms postprocess per image at shape (1, 3, 320, 416)\n",
      "❌ Not wearing a formal shirt\n",
      "\n",
      "0: 320x416 1 id_card, 98.1ms\n",
      "Speed: 0.0ms preprocess, 98.1ms inference, 0.0ms postprocess per image at shape (1, 3, 320, 416)\n",
      "❌ Not wearing a formal shirt\n",
      "\n",
      "0: 320x416 1 id_card, 95.2ms\n",
      "Speed: 0.0ms preprocess, 95.2ms inference, 0.0ms postprocess per image at shape (1, 3, 320, 416)\n",
      "❌ Not wearing a formal shirt\n",
      "\n",
      "0: 320x416 1 id_card, 130.4ms\n",
      "Speed: 0.0ms preprocess, 130.4ms inference, 0.0ms postprocess per image at shape (1, 3, 320, 416)\n",
      "❌ Not wearing a formal shirt\n",
      "\n",
      "0: 320x416 1 id_card, 110.6ms\n",
      "Speed: 0.0ms preprocess, 110.6ms inference, 0.0ms postprocess per image at shape (1, 3, 320, 416)\n",
      "❌ Not wearing a formal shirt\n",
      "\n",
      "0: 320x416 1 id_card, 109.9ms\n",
      "Speed: 0.0ms preprocess, 109.9ms inference, 1.6ms postprocess per image at shape (1, 3, 320, 416)\n",
      "❌ Not wearing a formal shirt\n",
      "\n",
      "0: 320x416 1 id_card, 101.4ms\n",
      "Speed: 0.0ms preprocess, 101.4ms inference, 0.0ms postprocess per image at shape (1, 3, 320, 416)\n",
      "❌ Not wearing a formal shirt\n",
      "\n",
      "0: 320x416 1 id_card, 130.2ms\n",
      "Speed: 0.0ms preprocess, 130.2ms inference, 0.0ms postprocess per image at shape (1, 3, 320, 416)\n",
      "❌ Not wearing a formal shirt\n",
      "\n",
      "0: 320x416 1 id_card, 150.8ms\n",
      "Speed: 0.0ms preprocess, 150.8ms inference, 0.0ms postprocess per image at shape (1, 3, 320, 416)\n",
      "❌ Not wearing a formal shirt\n",
      "\n",
      "0: 320x416 1 id_card, 137.8ms\n",
      "Speed: 0.0ms preprocess, 137.8ms inference, 0.0ms postprocess per image at shape (1, 3, 320, 416)\n",
      "❌ Not wearing a formal shirt\n",
      "\n",
      "0: 320x416 1 id_card, 124.0ms\n",
      "Speed: 0.0ms preprocess, 124.0ms inference, 0.0ms postprocess per image at shape (1, 3, 320, 416)\n",
      "❌ Not wearing a formal shirt\n",
      "\n",
      "0: 320x416 1 id_card, 115.9ms\n",
      "Speed: 0.0ms preprocess, 115.9ms inference, 0.3ms postprocess per image at shape (1, 3, 320, 416)\n",
      "❌ Not wearing a formal shirt\n",
      "\n",
      "0: 320x416 1 id_card, 149.3ms\n",
      "Speed: 1.5ms preprocess, 149.3ms inference, 0.0ms postprocess per image at shape (1, 3, 320, 416)\n",
      "❌ Not wearing a formal shirt\n",
      "\n",
      "0: 320x416 1 id_card, 149.2ms\n",
      "Speed: 2.6ms preprocess, 149.2ms inference, 0.0ms postprocess per image at shape (1, 3, 320, 416)\n",
      "❌ Not wearing a formal shirt\n",
      "\n",
      "0: 320x416 1 id_card, 143.0ms\n",
      "Speed: 2.5ms preprocess, 143.0ms inference, 0.0ms postprocess per image at shape (1, 3, 320, 416)\n",
      "❌ Not wearing a formal shirt\n",
      "\n",
      "0: 320x416 1 id_card, 157.4ms\n",
      "Speed: 1.7ms preprocess, 157.4ms inference, 6.3ms postprocess per image at shape (1, 3, 320, 416)\n",
      "❌ Not wearing a formal shirt\n",
      "\n",
      "0: 320x416 1 id_card, 171.8ms\n",
      "Speed: 0.0ms preprocess, 171.8ms inference, 0.0ms postprocess per image at shape (1, 3, 320, 416)\n",
      "❌ Not wearing a formal shirt\n",
      "\n",
      "0: 320x416 1 id_card, 151.7ms\n",
      "Speed: 0.0ms preprocess, 151.7ms inference, 0.0ms postprocess per image at shape (1, 3, 320, 416)\n",
      "❌ Not wearing a formal shirt\n",
      "\n",
      "0: 320x416 1 id_card, 172.5ms\n",
      "Speed: 0.0ms preprocess, 172.5ms inference, 0.0ms postprocess per image at shape (1, 3, 320, 416)\n",
      "❌ Not wearing a formal shirt\n",
      "\n",
      "0: 320x416 1 id_card, 109.2ms\n",
      "Speed: 1.5ms preprocess, 109.2ms inference, 0.0ms postprocess per image at shape (1, 3, 320, 416)\n",
      "❌ Not wearing a formal shirt\n",
      "\n",
      "0: 320x416 1 id_card, 83.1ms\n",
      "Speed: 0.8ms preprocess, 83.1ms inference, 0.0ms postprocess per image at shape (1, 3, 320, 416)\n",
      "❌ Not wearing a formal shirt\n",
      "\n",
      "0: 320x416 1 id_card, 98.0ms\n",
      "Speed: 0.0ms preprocess, 98.0ms inference, 0.0ms postprocess per image at shape (1, 3, 320, 416)\n",
      "❌ Not wearing a formal shirt\n",
      "\n",
      "0: 320x416 1 id_card, 86.8ms\n",
      "Speed: 0.0ms preprocess, 86.8ms inference, 0.0ms postprocess per image at shape (1, 3, 320, 416)\n",
      "❌ Not wearing a formal shirt\n",
      "\n",
      "0: 320x416 1 id_card, 87.3ms\n",
      "Speed: 0.0ms preprocess, 87.3ms inference, 0.7ms postprocess per image at shape (1, 3, 320, 416)\n",
      "❌ Not wearing a formal shirt\n",
      "\n",
      "0: 320x416 1 id_card, 84.0ms\n",
      "Speed: 0.0ms preprocess, 84.0ms inference, 0.0ms postprocess per image at shape (1, 3, 320, 416)\n",
      "❌ Not wearing a formal shirt\n",
      "\n",
      "0: 320x416 1 id_card, 100.9ms\n",
      "Speed: 0.0ms preprocess, 100.9ms inference, 0.0ms postprocess per image at shape (1, 3, 320, 416)\n",
      "❌ Not wearing a formal shirt\n",
      "\n",
      "0: 320x416 1 id_card, 87.4ms\n",
      "Speed: 1.4ms preprocess, 87.4ms inference, 0.0ms postprocess per image at shape (1, 3, 320, 416)\n",
      "❌ Not wearing a formal shirt\n",
      "\n",
      "0: 320x416 1 id_card, 74.2ms\n",
      "Speed: 0.0ms preprocess, 74.2ms inference, 0.0ms postprocess per image at shape (1, 3, 320, 416)\n",
      "❌ Not wearing a formal shirt\n",
      "\n",
      "0: 320x416 1 id_card, 95.4ms\n",
      "Speed: 0.0ms preprocess, 95.4ms inference, 0.0ms postprocess per image at shape (1, 3, 320, 416)\n",
      "❌ Not wearing a formal shirt\n",
      "\n",
      "0: 320x416 1 id_card, 73.7ms\n",
      "Speed: 0.0ms preprocess, 73.7ms inference, 0.0ms postprocess per image at shape (1, 3, 320, 416)\n",
      "❌ Not wearing a formal shirt\n",
      "\n",
      "0: 320x416 1 id_card, 75.9ms\n",
      "Speed: 0.0ms preprocess, 75.9ms inference, 0.0ms postprocess per image at shape (1, 3, 320, 416)\n",
      "❌ Not wearing a formal shirt\n",
      "\n",
      "0: 320x416 1 id_card, 69.9ms\n",
      "Speed: 1.6ms preprocess, 69.9ms inference, 0.0ms postprocess per image at shape (1, 3, 320, 416)\n",
      "❌ Not wearing a formal shirt\n",
      "\n",
      "0: 320x416 1 id_card, 87.9ms\n",
      "Speed: 0.0ms preprocess, 87.9ms inference, 0.0ms postprocess per image at shape (1, 3, 320, 416)\n",
      "❌ Not wearing a formal shirt\n",
      "\n",
      "0: 320x416 1 id_card, 75.0ms\n",
      "Speed: 0.0ms preprocess, 75.0ms inference, 0.0ms postprocess per image at shape (1, 3, 320, 416)\n",
      "❌ Not wearing a formal shirt\n",
      "\n",
      "0: 320x416 1 id_card, 88.5ms\n",
      "Speed: 0.0ms preprocess, 88.5ms inference, 0.0ms postprocess per image at shape (1, 3, 320, 416)\n",
      "❌ Not wearing a formal shirt\n",
      "\n",
      "0: 320x416 1 id_card, 89.5ms\n",
      "Speed: 1.7ms preprocess, 89.5ms inference, 0.7ms postprocess per image at shape (1, 3, 320, 416)\n",
      "❌ Not wearing a formal shirt\n",
      "\n",
      "0: 320x416 1 id_card, 80.4ms\n",
      "Speed: 0.0ms preprocess, 80.4ms inference, 0.0ms postprocess per image at shape (1, 3, 320, 416)\n",
      "❌ Not wearing a formal shirt\n",
      "\n",
      "0: 320x416 1 id_card, 85.2ms\n",
      "Speed: 2.7ms preprocess, 85.2ms inference, 0.0ms postprocess per image at shape (1, 3, 320, 416)\n",
      "❌ Not wearing a formal shirt\n",
      "\n",
      "0: 320x416 1 id_card, 81.0ms\n",
      "Speed: 0.0ms preprocess, 81.0ms inference, 0.0ms postprocess per image at shape (1, 3, 320, 416)\n",
      "❌ Not wearing a formal shirt\n",
      "\n",
      "0: 320x416 1 id_card, 75.1ms\n",
      "Speed: 0.0ms preprocess, 75.1ms inference, 0.0ms postprocess per image at shape (1, 3, 320, 416)\n",
      "❌ Not wearing a formal shirt\n",
      "\n",
      "0: 320x416 1 id_card, 82.5ms\n",
      "Speed: 0.0ms preprocess, 82.5ms inference, 0.0ms postprocess per image at shape (1, 3, 320, 416)\n",
      "❌ Not wearing a formal shirt\n",
      "\n",
      "0: 320x416 1 id_card, 83.5ms\n",
      "Speed: 0.0ms preprocess, 83.5ms inference, 0.0ms postprocess per image at shape (1, 3, 320, 416)\n",
      "❌ Not wearing a formal shirt\n",
      "\n",
      "0: 320x416 1 id_card, 81.4ms\n",
      "Speed: 0.0ms preprocess, 81.4ms inference, 6.6ms postprocess per image at shape (1, 3, 320, 416)\n",
      "❌ Not wearing a formal shirt\n",
      "\n",
      "0: 320x416 1 id_card, 74.2ms\n",
      "Speed: 0.0ms preprocess, 74.2ms inference, 0.0ms postprocess per image at shape (1, 3, 320, 416)\n",
      "❌ Not wearing a formal shirt\n",
      "\n",
      "0: 320x416 1 id_card, 75.1ms\n",
      "Speed: 0.0ms preprocess, 75.1ms inference, 0.0ms postprocess per image at shape (1, 3, 320, 416)\n",
      "❌ Not wearing a formal shirt\n",
      "\n",
      "0: 320x416 1 id_card, 78.3ms\n",
      "Speed: 1.3ms preprocess, 78.3ms inference, 0.0ms postprocess per image at shape (1, 3, 320, 416)\n",
      "❌ Not wearing a formal shirt\n",
      "\n",
      "0: 320x416 1 id_card, 80.4ms\n",
      "Speed: 2.4ms preprocess, 80.4ms inference, 0.0ms postprocess per image at shape (1, 3, 320, 416)\n",
      "❌ Not wearing a formal shirt\n",
      "\n",
      "0: 320x416 1 id_card, 74.8ms\n",
      "Speed: 1.1ms preprocess, 74.8ms inference, 0.0ms postprocess per image at shape (1, 3, 320, 416)\n",
      "❌ Not wearing a formal shirt\n",
      "\n",
      "0: 320x416 1 id_card, 81.1ms\n",
      "Speed: 0.0ms preprocess, 81.1ms inference, 0.0ms postprocess per image at shape (1, 3, 320, 416)\n",
      "❌ Not wearing a formal shirt\n",
      "\n",
      "0: 320x416 1 id_card, 81.3ms\n",
      "Speed: 1.4ms preprocess, 81.3ms inference, 0.0ms postprocess per image at shape (1, 3, 320, 416)\n",
      "❌ Not wearing a formal shirt\n",
      "\n",
      "0: 320x416 1 id_card, 81.0ms\n",
      "Speed: 0.0ms preprocess, 81.0ms inference, 0.0ms postprocess per image at shape (1, 3, 320, 416)\n",
      "❌ Not wearing a formal shirt\n",
      "\n",
      "0: 320x416 1 id_card, 80.5ms\n",
      "Speed: 2.2ms preprocess, 80.5ms inference, 1.0ms postprocess per image at shape (1, 3, 320, 416)\n",
      "❌ Not wearing a formal shirt\n",
      "\n",
      "0: 320x416 1 id_card, 80.6ms\n",
      "Speed: 0.0ms preprocess, 80.6ms inference, 6.9ms postprocess per image at shape (1, 3, 320, 416)\n",
      "❌ Not wearing a formal shirt\n",
      "\n",
      "0: 320x416 1 id_card, 87.0ms\n",
      "Speed: 1.9ms preprocess, 87.0ms inference, 0.0ms postprocess per image at shape (1, 3, 320, 416)\n",
      "❌ Not wearing a formal shirt\n",
      "\n",
      "0: 320x416 1 id_card, 79.4ms\n",
      "Speed: 1.7ms preprocess, 79.4ms inference, 0.0ms postprocess per image at shape (1, 3, 320, 416)\n",
      "❌ Not wearing a formal shirt\n",
      "\n",
      "0: 320x416 1 id_card, 86.4ms\n",
      "Speed: 0.0ms preprocess, 86.4ms inference, 1.1ms postprocess per image at shape (1, 3, 320, 416)\n",
      "❌ Not wearing a formal shirt\n",
      "\n",
      "0: 320x416 1 id_card, 82.3ms\n",
      "Speed: 1.9ms preprocess, 82.3ms inference, 4.6ms postprocess per image at shape (1, 3, 320, 416)\n",
      "❌ Not wearing a formal shirt\n",
      "\n",
      "0: 320x416 1 id_card, 83.7ms\n",
      "Speed: 0.0ms preprocess, 83.7ms inference, 0.0ms postprocess per image at shape (1, 3, 320, 416)\n",
      "❌ Not wearing a formal shirt\n",
      "\n",
      "0: 320x416 1 id_card, 80.7ms\n",
      "Speed: 0.0ms preprocess, 80.7ms inference, 0.0ms postprocess per image at shape (1, 3, 320, 416)\n",
      "❌ Not wearing a formal shirt\n",
      "\n",
      "0: 320x416 1 id_card, 82.2ms\n",
      "Speed: 1.3ms preprocess, 82.2ms inference, 0.0ms postprocess per image at shape (1, 3, 320, 416)\n",
      "❌ Not wearing a formal shirt\n",
      "\n",
      "0: 320x416 1 id_card, 81.0ms\n",
      "Speed: 0.0ms preprocess, 81.0ms inference, 0.0ms postprocess per image at shape (1, 3, 320, 416)\n",
      "❌ Not wearing a formal shirt\n",
      "\n",
      "0: 320x416 1 id_card, 73.5ms\n",
      "Speed: 0.0ms preprocess, 73.5ms inference, 0.0ms postprocess per image at shape (1, 3, 320, 416)\n",
      "❌ Not wearing a formal shirt\n",
      "\n",
      "0: 320x416 1 id_card, 81.3ms\n",
      "Speed: 1.3ms preprocess, 81.3ms inference, 6.3ms postprocess per image at shape (1, 3, 320, 416)\n",
      "❌ Not wearing a formal shirt\n",
      "\n",
      "0: 320x416 1 id_card, 85.1ms\n",
      "Speed: 0.0ms preprocess, 85.1ms inference, 0.0ms postprocess per image at shape (1, 3, 320, 416)\n",
      "❌ Not wearing a formal shirt\n",
      "\n",
      "0: 320x416 1 id_card, 80.4ms\n",
      "Speed: 0.0ms preprocess, 80.4ms inference, 0.0ms postprocess per image at shape (1, 3, 320, 416)\n",
      "❌ Not wearing a formal shirt\n",
      "\n",
      "0: 320x416 1 id_card, 82.0ms\n",
      "Speed: 0.0ms preprocess, 82.0ms inference, 0.0ms postprocess per image at shape (1, 3, 320, 416)\n",
      "❌ Not wearing a formal shirt\n",
      "\n",
      "0: 320x416 1 id_card, 74.2ms\n",
      "Speed: 0.0ms preprocess, 74.2ms inference, 0.0ms postprocess per image at shape (1, 3, 320, 416)\n",
      "❌ Not wearing a formal shirt\n",
      "\n",
      "0: 320x416 1 id_card, 80.0ms\n",
      "Speed: 1.0ms preprocess, 80.0ms inference, 0.0ms postprocess per image at shape (1, 3, 320, 416)\n",
      "❌ Not wearing a formal shirt\n",
      "\n",
      "0: 320x416 1 id_card, 72.6ms\n",
      "Speed: 1.5ms preprocess, 72.6ms inference, 0.0ms postprocess per image at shape (1, 3, 320, 416)\n",
      "❌ Not wearing a formal shirt\n",
      "\n",
      "0: 320x416 1 id_card, 74.0ms\n",
      "Speed: 0.0ms preprocess, 74.0ms inference, 0.0ms postprocess per image at shape (1, 3, 320, 416)\n",
      "❌ Not wearing a formal shirt\n",
      "\n",
      "0: 320x416 1 id_card, 86.3ms\n",
      "Speed: 0.0ms preprocess, 86.3ms inference, 0.0ms postprocess per image at shape (1, 3, 320, 416)\n",
      "❌ Not wearing a formal shirt\n",
      "\n",
      "0: 320x416 1 id_card, 87.7ms\n",
      "Speed: 0.0ms preprocess, 87.7ms inference, 0.0ms postprocess per image at shape (1, 3, 320, 416)\n",
      "❌ Not wearing a formal shirt\n",
      "\n",
      "0: 320x416 1 id_card, 87.2ms\n",
      "Speed: 1.7ms preprocess, 87.2ms inference, 0.0ms postprocess per image at shape (1, 3, 320, 416)\n",
      "❌ Not wearing a formal shirt\n",
      "\n",
      "0: 320x416 1 id_card, 85.2ms\n",
      "Speed: 1.4ms preprocess, 85.2ms inference, 0.0ms postprocess per image at shape (1, 3, 320, 416)\n",
      "❌ Not wearing a formal shirt\n",
      "\n",
      "0: 320x416 1 id_card, 87.1ms\n",
      "Speed: 2.3ms preprocess, 87.1ms inference, 0.0ms postprocess per image at shape (1, 3, 320, 416)\n",
      "❌ Not wearing a formal shirt\n",
      "\n",
      "0: 320x416 1 id_card, 75.1ms\n",
      "Speed: 0.0ms preprocess, 75.1ms inference, 0.0ms postprocess per image at shape (1, 3, 320, 416)\n",
      "❌ Not wearing a formal shirt\n",
      "\n",
      "0: 320x416 1 id_card, 81.0ms\n",
      "Speed: 0.0ms preprocess, 81.0ms inference, 0.0ms postprocess per image at shape (1, 3, 320, 416)\n",
      "❌ Not wearing a formal shirt\n",
      "\n",
      "0: 320x416 1 id_card, 79.8ms\n",
      "Speed: 0.0ms preprocess, 79.8ms inference, 0.0ms postprocess per image at shape (1, 3, 320, 416)\n",
      "❌ Not wearing a formal shirt\n",
      "\n",
      "0: 320x416 1 id_card, 83.3ms\n",
      "Speed: 2.6ms preprocess, 83.3ms inference, 0.0ms postprocess per image at shape (1, 3, 320, 416)\n",
      "❌ Not wearing a formal shirt\n",
      "\n",
      "0: 320x416 1 id_card, 73.9ms\n",
      "Speed: 0.0ms preprocess, 73.9ms inference, 0.0ms postprocess per image at shape (1, 3, 320, 416)\n",
      "❌ Not wearing a formal shirt\n",
      "\n",
      "0: 320x416 1 id_card, 76.3ms\n",
      "Speed: 0.0ms preprocess, 76.3ms inference, 4.1ms postprocess per image at shape (1, 3, 320, 416)\n",
      "❌ Not wearing a formal shirt\n",
      "\n",
      "0: 320x416 1 id_card, 75.9ms\n",
      "Speed: 0.0ms preprocess, 75.9ms inference, 0.0ms postprocess per image at shape (1, 3, 320, 416)\n",
      "❌ Not wearing a formal shirt\n",
      "\n",
      "0: 320x416 1 id_card, 78.1ms\n",
      "Speed: 0.0ms preprocess, 78.1ms inference, 0.0ms postprocess per image at shape (1, 3, 320, 416)\n",
      "❌ Not wearing a formal shirt\n",
      "\n",
      "0: 320x416 1 id_card, 75.4ms\n",
      "Speed: 0.0ms preprocess, 75.4ms inference, 0.0ms postprocess per image at shape (1, 3, 320, 416)\n",
      "❌ Not wearing a formal shirt\n",
      "\n",
      "0: 320x416 1 id_card, 109.9ms\n",
      "Speed: 0.0ms preprocess, 109.9ms inference, 0.0ms postprocess per image at shape (1, 3, 320, 416)\n",
      "❌ Not wearing a formal shirt\n",
      "\n",
      "0: 320x416 1 id_card, 87.1ms\n",
      "Speed: 1.8ms preprocess, 87.1ms inference, 0.0ms postprocess per image at shape (1, 3, 320, 416)\n",
      "❌ Not wearing a formal shirt\n",
      "\n",
      "0: 320x416 1 id_card, 103.4ms\n",
      "Speed: 1.7ms preprocess, 103.4ms inference, 0.0ms postprocess per image at shape (1, 3, 320, 416)\n",
      "❌ Not wearing a formal shirt\n",
      "\n",
      "0: 320x416 1 id_card, 93.1ms\n",
      "Speed: 1.9ms preprocess, 93.1ms inference, 0.0ms postprocess per image at shape (1, 3, 320, 416)\n",
      "❌ Not wearing a formal shirt\n",
      "\n",
      "0: 320x416 1 id_card, 93.4ms\n",
      "Speed: 1.5ms preprocess, 93.4ms inference, 1.8ms postprocess per image at shape (1, 3, 320, 416)\n",
      "❌ Not wearing a formal shirt\n",
      "\n",
      "0: 320x416 1 id_card, 107.6ms\n",
      "Speed: 0.6ms preprocess, 107.6ms inference, 0.0ms postprocess per image at shape (1, 3, 320, 416)\n",
      "❌ Not wearing a formal shirt\n",
      "\n",
      "0: 320x416 1 id_card, 88.4ms\n",
      "Speed: 0.0ms preprocess, 88.4ms inference, 0.0ms postprocess per image at shape (1, 3, 320, 416)\n",
      "❌ Not wearing a formal shirt\n",
      "\n",
      "0: 320x416 1 id_card, 141.3ms\n",
      "Speed: 0.0ms preprocess, 141.3ms inference, 0.0ms postprocess per image at shape (1, 3, 320, 416)\n",
      "❌ Not wearing a formal shirt\n",
      "\n",
      "0: 320x416 1 id_card, 97.5ms\n",
      "Speed: 0.0ms preprocess, 97.5ms inference, 0.0ms postprocess per image at shape (1, 3, 320, 416)\n",
      "❌ Not wearing a formal shirt\n",
      "\n",
      "0: 320x416 1 id_card, 92.5ms\n",
      "Speed: 2.1ms preprocess, 92.5ms inference, 0.0ms postprocess per image at shape (1, 3, 320, 416)\n",
      "❌ Not wearing a formal shirt\n",
      "\n",
      "0: 320x416 1 id_card, 156.2ms\n",
      "Speed: 0.0ms preprocess, 156.2ms inference, 0.0ms postprocess per image at shape (1, 3, 320, 416)\n",
      "❌ Not wearing a formal shirt\n",
      "\n",
      "0: 320x416 1 id_card, 124.3ms\n",
      "Speed: 3.4ms preprocess, 124.3ms inference, 0.0ms postprocess per image at shape (1, 3, 320, 416)\n",
      "❌ Not wearing a formal shirt\n",
      "\n",
      "0: 320x416 1 id_card, 94.8ms\n",
      "Speed: 0.0ms preprocess, 94.8ms inference, 7.1ms postprocess per image at shape (1, 3, 320, 416)\n",
      "❌ Not wearing a formal shirt\n",
      "\n",
      "0: 320x416 1 id_card, 113.9ms\n",
      "Speed: 1.4ms preprocess, 113.9ms inference, 0.0ms postprocess per image at shape (1, 3, 320, 416)\n",
      "❌ Not wearing a formal shirt\n",
      "\n",
      "0: 320x416 1 id_card, 73.7ms\n",
      "Speed: 0.0ms preprocess, 73.7ms inference, 0.0ms postprocess per image at shape (1, 3, 320, 416)\n",
      "❌ Not wearing a formal shirt\n",
      "\n",
      "0: 320x416 1 id_card, 81.1ms\n",
      "Speed: 0.0ms preprocess, 81.1ms inference, 0.0ms postprocess per image at shape (1, 3, 320, 416)\n",
      "❌ Not wearing a formal shirt\n",
      "\n",
      "0: 320x416 1 id_card, 80.6ms\n",
      "Speed: 0.0ms preprocess, 80.6ms inference, 0.0ms postprocess per image at shape (1, 3, 320, 416)\n",
      "❌ Not wearing a formal shirt\n",
      "\n",
      "0: 320x416 1 id_card, 86.6ms\n",
      "Speed: 1.9ms preprocess, 86.6ms inference, 0.0ms postprocess per image at shape (1, 3, 320, 416)\n",
      "❌ Not wearing a formal shirt\n",
      "\n",
      "0: 320x416 1 id_card, 93.7ms\n",
      "Speed: 2.6ms preprocess, 93.7ms inference, 0.0ms postprocess per image at shape (1, 3, 320, 416)\n",
      "❌ Not wearing a formal shirt\n",
      "\n",
      "0: 320x416 1 id_card, 84.7ms\n",
      "Speed: 1.4ms preprocess, 84.7ms inference, 0.0ms postprocess per image at shape (1, 3, 320, 416)\n",
      "❌ Not wearing a formal shirt\n",
      "\n",
      "0: 320x416 1 id_card, 80.6ms\n",
      "Speed: 0.0ms preprocess, 80.6ms inference, 1.8ms postprocess per image at shape (1, 3, 320, 416)\n",
      "❌ Not wearing a formal shirt\n",
      "\n",
      "0: 320x416 1 id_card, 87.6ms\n",
      "Speed: 0.0ms preprocess, 87.6ms inference, 0.0ms postprocess per image at shape (1, 3, 320, 416)\n",
      "❌ Not wearing a formal shirt\n",
      "\n",
      "0: 320x416 1 id_card, 73.7ms\n",
      "Speed: 0.0ms preprocess, 73.7ms inference, 0.0ms postprocess per image at shape (1, 3, 320, 416)\n",
      "❌ Not wearing a formal shirt\n",
      "\n",
      "0: 320x416 1 id_card, 80.3ms\n",
      "Speed: 0.0ms preprocess, 80.3ms inference, 0.0ms postprocess per image at shape (1, 3, 320, 416)\n",
      "❌ Not wearing a formal shirt\n",
      "\n",
      "0: 320x416 1 id_card, 81.4ms\n",
      "Speed: 0.0ms preprocess, 81.4ms inference, 0.0ms postprocess per image at shape (1, 3, 320, 416)\n",
      "❌ Not wearing a formal shirt\n",
      "\n",
      "0: 320x416 1 id_card, 74.1ms\n",
      "Speed: 0.0ms preprocess, 74.1ms inference, 0.0ms postprocess per image at shape (1, 3, 320, 416)\n",
      "❌ Not wearing a formal shirt\n",
      "\n",
      "0: 320x416 1 id_card, 83.9ms\n",
      "Speed: 1.5ms preprocess, 83.9ms inference, 0.4ms postprocess per image at shape (1, 3, 320, 416)\n",
      "❌ Not wearing a formal shirt\n",
      "\n",
      "0: 320x416 1 id_card, 80.7ms\n",
      "Speed: 0.0ms preprocess, 80.7ms inference, 0.0ms postprocess per image at shape (1, 3, 320, 416)\n",
      "❌ Not wearing a formal shirt\n",
      "\n",
      "0: 320x416 1 id_card, 85.7ms\n",
      "Speed: 1.4ms preprocess, 85.7ms inference, 7.1ms postprocess per image at shape (1, 3, 320, 416)\n",
      "❌ Not wearing a formal shirt\n",
      "\n",
      "0: 320x416 2 id_cards, 93.4ms\n",
      "Speed: 1.4ms preprocess, 93.4ms inference, 0.0ms postprocess per image at shape (1, 3, 320, 416)\n",
      "❌ Not wearing a formal shirt\n",
      "\n",
      "0: 320x416 (no detections), 95.1ms\n",
      "Speed: 2.0ms preprocess, 95.1ms inference, 0.0ms postprocess per image at shape (1, 3, 320, 416)\n",
      "❌ Not wearing a formal shirt\n",
      "❌ No ID card detected\n",
      "\n",
      "0: 320x416 1 id_card, 95.5ms\n",
      "Speed: 0.0ms preprocess, 95.5ms inference, 1.3ms postprocess per image at shape (1, 3, 320, 416)\n",
      "❌ Not wearing a formal shirt\n",
      "\n",
      "0: 320x416 1 id_card, 103.6ms\n",
      "Speed: 0.6ms preprocess, 103.6ms inference, 0.5ms postprocess per image at shape (1, 3, 320, 416)\n",
      "❌ Not wearing a formal shirt\n",
      "\n",
      "0: 320x416 1 id_card, 94.0ms\n",
      "Speed: 0.0ms preprocess, 94.0ms inference, 0.0ms postprocess per image at shape (1, 3, 320, 416)\n",
      "❌ Not wearing a formal shirt\n",
      "\n",
      "0: 320x416 1 id_card, 94.1ms\n",
      "Speed: 2.2ms preprocess, 94.1ms inference, 0.0ms postprocess per image at shape (1, 3, 320, 416)\n",
      "❌ Not wearing a formal shirt\n",
      "\n",
      "0: 320x416 1 id_card, 86.5ms\n",
      "Speed: 0.0ms preprocess, 86.5ms inference, 0.0ms postprocess per image at shape (1, 3, 320, 416)\n",
      "❌ Not wearing a formal shirt\n",
      "\n",
      "0: 320x416 1 id_card, 74.1ms\n",
      "Speed: 0.0ms preprocess, 74.1ms inference, 0.0ms postprocess per image at shape (1, 3, 320, 416)\n",
      "❌ Not wearing a formal shirt\n",
      "\n",
      "0: 320x416 1 id_card, 80.7ms\n",
      "Speed: 0.0ms preprocess, 80.7ms inference, 2.8ms postprocess per image at shape (1, 3, 320, 416)\n",
      "❌ Not wearing a formal shirt\n",
      "\n",
      "0: 320x416 1 id_card, 82.7ms\n",
      "Speed: 0.0ms preprocess, 82.7ms inference, 1.3ms postprocess per image at shape (1, 3, 320, 416)\n",
      "❌ Not wearing a formal shirt\n",
      "\n",
      "0: 320x416 1 id_card, 89.4ms\n",
      "Speed: 1.6ms preprocess, 89.4ms inference, 0.0ms postprocess per image at shape (1, 3, 320, 416)\n",
      "❌ Not wearing a formal shirt\n",
      "\n",
      "0: 320x416 1 id_card, 79.6ms\n",
      "Speed: 0.0ms preprocess, 79.6ms inference, 6.6ms postprocess per image at shape (1, 3, 320, 416)\n",
      "❌ Not wearing a formal shirt\n",
      "\n",
      "0: 320x416 1 id_card, 90.4ms\n",
      "Speed: 0.0ms preprocess, 90.4ms inference, 0.0ms postprocess per image at shape (1, 3, 320, 416)\n",
      "❌ Not wearing a formal shirt\n",
      "\n",
      "0: 320x416 1 id_card, 81.9ms\n",
      "Speed: 1.8ms preprocess, 81.9ms inference, 0.0ms postprocess per image at shape (1, 3, 320, 416)\n",
      "❌ Not wearing a formal shirt\n",
      "\n",
      "0: 320x416 1 id_card, 90.2ms\n",
      "Speed: 0.0ms preprocess, 90.2ms inference, 0.0ms postprocess per image at shape (1, 3, 320, 416)\n",
      "❌ Not wearing a formal shirt\n",
      "\n",
      "0: 320x416 1 id_card, 88.3ms\n",
      "Speed: 0.0ms preprocess, 88.3ms inference, 0.0ms postprocess per image at shape (1, 3, 320, 416)\n",
      "❌ Not wearing a formal shirt\n",
      "\n",
      "0: 320x416 1 id_card, 90.5ms\n",
      "Speed: 0.0ms preprocess, 90.5ms inference, 0.0ms postprocess per image at shape (1, 3, 320, 416)\n",
      "❌ Not wearing a formal shirt\n",
      "\n",
      "0: 320x416 1 id_card, 87.9ms\n",
      "Speed: 0.0ms preprocess, 87.9ms inference, 0.0ms postprocess per image at shape (1, 3, 320, 416)\n",
      "❌ Not wearing a formal shirt\n",
      "\n",
      "0: 320x416 1 id_card, 80.3ms\n",
      "Speed: 0.0ms preprocess, 80.3ms inference, 0.0ms postprocess per image at shape (1, 3, 320, 416)\n",
      "❌ Not wearing a formal shirt\n",
      "\n",
      "0: 320x416 1 id_card, 83.1ms\n",
      "Speed: 0.0ms preprocess, 83.1ms inference, 0.0ms postprocess per image at shape (1, 3, 320, 416)\n",
      "❌ Not wearing a formal shirt\n",
      "\n",
      "0: 320x416 1 id_card, 87.8ms\n",
      "Speed: 0.0ms preprocess, 87.8ms inference, 0.0ms postprocess per image at shape (1, 3, 320, 416)\n",
      "❌ Not wearing a formal shirt\n",
      "\n",
      "0: 320x416 1 id_card, 108.3ms\n",
      "Speed: 0.0ms preprocess, 108.3ms inference, 0.0ms postprocess per image at shape (1, 3, 320, 416)\n",
      "❌ Not wearing a formal shirt\n",
      "\n",
      "0: 320x416 1 id_card, 81.4ms\n",
      "Speed: 0.0ms preprocess, 81.4ms inference, 0.0ms postprocess per image at shape (1, 3, 320, 416)\n",
      "❌ Not wearing a formal shirt\n",
      "\n",
      "0: 320x416 1 id_card, 95.9ms\n",
      "Speed: 0.0ms preprocess, 95.9ms inference, 0.0ms postprocess per image at shape (1, 3, 320, 416)\n",
      "❌ Not wearing a formal shirt\n"
     ]
    }
   ],
   "source": [
    "import cv2\n",
    "import numpy as np\n",
    "from ultralytics import YOLO\n",
    "\n",
    "# ✅ Load the trained YOLO model\n",
    "model = YOLO(r\"C:\\Users\\91964\\OneDrive\\Desktop\\PAD_Rishi\\runs\\detect\\train3\\weights\\best.pt\")\n",
    "\n",
    "# ✅ Open webcam (0 = default camera)\n",
    "cap = cv2.VideoCapture(0)\n",
    "\n",
    "while True:\n",
    "    ret, frame = cap.read()\n",
    "    if not ret:\n",
    "        print(\"❌ Error: Could not capture frame\")\n",
    "        break\n",
    "\n",
    "    # ✅ Run YOLO detection on the frame\n",
    "    results = model(frame)\n",
    "\n",
    "    # ✅ Extract detected class names\n",
    "    detected_classes = [model.names[int(box.cls)] for result in results for box in result.boxes]\n",
    "\n",
    "    # ✅ Check if \"Formal Shirt\" and \"id_card\" are detected\n",
    "    formal_detected = \"Formal Shirt\" in detected_classes\n",
    "    id_card_detected = \"id_card\" in detected_classes\n",
    "\n",
    "    # ✅ Display messages\n",
    "    if not formal_detected:\n",
    "        print(\"❌ Not wearing a formal shirt\")\n",
    "    if not id_card_detected:\n",
    "        print(\"❌ No ID card detected\")\n",
    "    if formal_detected and id_card_detected:\n",
    "        print(\"✅ Formal Shirt and ID Card detected\")\n",
    "\n",
    "    # ✅ Convert results to numpy image\n",
    "    for result in results:\n",
    "        img = result.plot()  # Get annotated image\n",
    "\n",
    "        # Convert RGB to BGR for OpenCV\n",
    "        img_bgr = cv2.cvtColor(img, cv2.COLOR_RGB2BGR)\n",
    "\n",
    "        # Display real-time output\n",
    "        cv2.imshow(\"YOLO Real-Time Detection\", img_bgr)\n",
    "\n",
    "    # ✅ Exit on pressing 'q'\n",
    "    if cv2.waitKey(1) & 0xFF == ord('q'):\n",
    "        break\n",
    "\n",
    "# ✅ Release resources\n",
    "cap.release()\n",
    "cv2.destroyAllWindows()\n"
   ]
  },
  {
   "cell_type": "code",
   "execution_count": 4,
   "metadata": {},
   "outputs": [
    {
     "name": "stdout",
     "output_type": "stream",
     "text": [
      "['__doc__', '__file__', '__loader__', '__name__', '__package__', '__path__', '__spec__']\n"
     ]
    }
   ],
   "source": [
    "import google.cloud\n",
    "print(dir(google.cloud))\n"
   ]
  },
  {
   "cell_type": "code",
   "execution_count": 12,
   "metadata": {},
   "outputs": [
    {
     "ename": "ImportError",
     "evalue": "cannot import name 'vision' from 'google.cloud' (unknown location)",
     "output_type": "error",
     "traceback": [
      "\u001b[1;31m---------------------------------------------------------------------------\u001b[0m",
      "\u001b[1;31mImportError\u001b[0m                               Traceback (most recent call last)",
      "Cell \u001b[1;32mIn[12], line 6\u001b[0m\n\u001b[0;32m      4\u001b[0m \u001b[38;5;28;01mimport\u001b[39;00m \u001b[38;5;21;01mthreading\u001b[39;00m\n\u001b[0;32m      5\u001b[0m \u001b[38;5;28;01mfrom\u001b[39;00m \u001b[38;5;21;01multralytics\u001b[39;00m \u001b[38;5;28;01mimport\u001b[39;00m YOLO\n\u001b[1;32m----> 6\u001b[0m \u001b[38;5;28;01mfrom\u001b[39;00m \u001b[38;5;21;01mgoogle\u001b[39;00m\u001b[38;5;21;01m.\u001b[39;00m\u001b[38;5;21;01mcloud\u001b[39;00m \u001b[38;5;28;01mimport\u001b[39;00m vision\n\u001b[0;32m      8\u001b[0m \u001b[38;5;66;03m# ✅ Set up Google Cloud authentication\u001b[39;00m\n\u001b[0;32m      9\u001b[0m os\u001b[38;5;241m.\u001b[39menviron[\u001b[38;5;124m\"\u001b[39m\u001b[38;5;124mGOOGLE_APPLICATION_CREDENTIALS\u001b[39m\u001b[38;5;124m\"\u001b[39m] \u001b[38;5;241m=\u001b[39m \u001b[38;5;124mr\u001b[39m\u001b[38;5;124m\"\u001b[39m\u001b[38;5;124mC:\u001b[39m\u001b[38;5;124m\\\u001b[39m\u001b[38;5;124mUsers\u001b[39m\u001b[38;5;124m\\\u001b[39m\u001b[38;5;124m91964\u001b[39m\u001b[38;5;124m\\\u001b[39m\u001b[38;5;124mOneDrive\u001b[39m\u001b[38;5;124m\\\u001b[39m\u001b[38;5;124mDesktop\u001b[39m\u001b[38;5;124m\\\u001b[39m\u001b[38;5;124mPAD_Rishi\u001b[39m\u001b[38;5;124m\\\u001b[39m\u001b[38;5;124mexsel-452618-1eff91091801.json\u001b[39m\u001b[38;5;124m\"\u001b[39m\n",
      "\u001b[1;31mImportError\u001b[0m: cannot import name 'vision' from 'google.cloud' (unknown location)"
     ]
    }
   ],
   "source": [
    "import os\n",
    "import cv2\n",
    "import numpy as np\n",
    "import threading\n",
    "from ultralytics import YOLO\n",
    "from google.cloud import vision\n",
    "\n",
    "# ✅ Set up Google Cloud authentication\n",
    "os.environ[\"GOOGLE_APPLICATION_CREDENTIALS\"] = r\"C:\\Users\\91964\\OneDrive\\Desktop\\PAD_Rishi\\exsel-452618-1eff91091801.json\"\n",
    "\n",
    "# ✅ Load YOLO model for ID card detection\n",
    "yolo_model = YOLO(r\"C:\\Users\\91964\\OneDrive\\Desktop\\PAD_Rishi\\runs\\detect\\train3\\weights\\best.pt\")\n",
    "\n",
    "# ✅ Define necessary formal clothing items\n",
    "REQUIRED_FORMAL_ITEMS = [\n",
    "    {\"shirt\", \"pants\"}, {\"shirt\", \"trousers\"}, {\"blouse\", \"skirt\", \"shawl\"},\n",
    "    {\"shirt\", \"skirt\", \"shawl\"}, {\"blouse\", \"pants\", \"shawl\"}, {\"shirt\", \"pants\", \"shawl\"},\n",
    "    {\"blouse\", \"skirt\", \"dupatta\"}, {\"shirt\", \"skirt\", \"dupatta\"}, {\"blouse\", \"pants\", \"dupatta\"},\n",
    "    {\"shirt\", \"pants\", \"dupatta\"}, {\"coat\", \"tie\", \"pants\"}, {\"shirt\"}, {\"dupatta\"}, {\"shawl\"}\n",
    "]\n",
    "\n",
    "# ✅ Initialize Google Vision API client\n",
    "vision_client = vision.ImageAnnotatorClient()\n",
    "\n",
    "def detect_objects_google_vision(image):\n",
    "    \"\"\"Detects objects and labels in an image using Google Cloud Vision API.\"\"\"\n",
    "    success, encoded_image = cv2.imencode('.jpg', image)\n",
    "    if not success:\n",
    "        return set(), []\n",
    "\n",
    "    image_data = encoded_image.tobytes()\n",
    "    image = vision.Image(content=image_data)\n",
    "\n",
    "    # Object detection\n",
    "    response = vision_client.object_localization(image=image)\n",
    "    detected_objects = {obj.name.lower() for obj in response.localized_object_annotations}\n",
    "    bounding_boxes = [(obj.name.lower(), [(vertex.x, vertex.y) for vertex in obj.bounding_poly.normalized_vertices])\n",
    "                      for obj in response.localized_object_annotations]\n",
    "\n",
    "    return detected_objects, bounding_boxes\n",
    "\n",
    "def is_formal_wear(detected_objects):\n",
    "    \"\"\"Checks if detected clothing matches any formal wear set.\"\"\"\n",
    "    for formal_set in REQUIRED_FORMAL_ITEMS:\n",
    "        if formal_set.issubset(detected_objects):\n",
    "            return True\n",
    "    return False\n",
    "\n",
    "def draw_boxes(image, bounding_boxes):\n",
    "    \"\"\"Draws bounding boxes around detected clothing items.\"\"\"\n",
    "    h, w, _ = image.shape\n",
    "\n",
    "    for obj_name, box in bounding_boxes:\n",
    "        pts = np.array([[int(x * w), int(y * h)] for x, y in box], np.int32)\n",
    "        pts = pts.reshape((-1, 1, 2))\n",
    "        cv2.polylines(image, [pts], isClosed=True, color=(0, 255, 0), thickness=2)\n",
    "        cv2.putText(image, obj_name, (pts[0][0][0], pts[0][0][1] - 10),\n",
    "                    cv2.FONT_HERSHEY_SIMPLEX, 0.8, (0, 255, 0), 2)\n",
    "\n",
    "# ✅ Open webcam (0 = default camera)\n",
    "cap = cv2.VideoCapture(0)\n",
    "\n",
    "def process_frame():\n",
    "    while True:\n",
    "        ret, frame = cap.read()\n",
    "        if not ret:\n",
    "            print(\"❌ Error: Could not capture frame\")\n",
    "            break\n",
    "\n",
    "        # ✅ Run YOLO ID card detection\n",
    "        yolo_results = yolo_model(frame)\n",
    "        detected_classes = [yolo_model.names[int(box.cls)] for result in yolo_results for box in result.boxes]\n",
    "\n",
    "        # ✅ Check if \"Formal Shirt\" and \"id_card\" are detected\n",
    "        id_card_detected = \"id_card\" in detected_classes\n",
    "\n",
    "        # ✅ Run Google Vision in a separate thread for efficiency\n",
    "        vision_thread = threading.Thread(target=lambda: detect_objects_google_vision(frame))\n",
    "        vision_thread.start()\n",
    "        detected_objects, bounding_boxes = detect_objects_google_vision(frame)\n",
    "        vision_thread.join()  # Ensure the thread finishes execution\n",
    "\n",
    "        # ✅ Determine if the person is wearing formal attire\n",
    "        formal_detected = is_formal_wear(detected_objects)\n",
    "\n",
    "        # ✅ Overlay results on the frame\n",
    "        draw_boxes(frame, bounding_boxes)\n",
    "        if not formal_detected:\n",
    "            cv2.putText(frame, \"❌ Not Wearing Formal\", (50, 100), cv2.FONT_HERSHEY_SIMPLEX, 1, (0, 0, 255), 3)\n",
    "        if not id_card_detected:\n",
    "            cv2.putText(frame, \"❌ No ID Card Detected\", (50, 150), cv2.FONT_HERSHEY_SIMPLEX, 1, (0, 0, 255), 3)\n",
    "        if formal_detected and id_card_detected:\n",
    "            cv2.putText(frame, \"✅ Formal & ID Card Verified\", (50, 200), cv2.FONT_HERSHEY_SIMPLEX, 1, (0, 255, 0), 3)\n",
    "\n",
    "        # ✅ Convert and display YOLO-processed image\n",
    "        for result in yolo_results:\n",
    "            img = result.plot()  # Get annotated image\n",
    "            img_bgr = cv2.cvtColor(img, cv2.COLOR_RGB2BGR)\n",
    "            cv2.imshow(\"YOLO Real-Time Detection\", img_bgr)\n",
    "\n",
    "        # ✅ Show combined results\n",
    "        cv2.imshow(\"Integrated Detection\", frame)\n",
    "\n",
    "        # ✅ Exit on pressing 'q'\n",
    "        if cv2.waitKey(1) & 0xFF == ord('q'):\n",
    "            break\n",
    "\n",
    "    cap.release()\n",
    "    cv2.destroyAllWindows()\n",
    "\n",
    "if __name__ == \"__main__\":\n",
    "    process_frame()\n"
   ]
  }
 ],
 "metadata": {
  "kernelspec": {
   "display_name": "Python 3",
   "language": "python",
   "name": "python3"
  },
  "language_info": {
   "codemirror_mode": {
    "name": "ipython",
    "version": 3
   },
   "file_extension": ".py",
   "mimetype": "text/x-python",
   "name": "python",
   "nbconvert_exporter": "python",
   "pygments_lexer": "ipython3",
   "version": "3.11.4"
  }
 },
 "nbformat": 4,
 "nbformat_minor": 2
}
